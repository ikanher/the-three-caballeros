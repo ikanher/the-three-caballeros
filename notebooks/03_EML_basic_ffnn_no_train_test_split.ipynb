{
 "cells": [
  {
   "cell_type": "code",
   "execution_count": 1,
   "metadata": {
    "hide_input": false
   },
   "outputs": [],
   "source": [
    "import random, math\n",
    "import numpy as np\n",
    "import torch\n",
    "\n",
    "from torch import nn\n",
    "from torch.utils.data import TensorDataset, DataLoader, RandomSampler\n",
    "\n",
    "import torchvision.transforms as transforms\n",
    "from torchvision.utils import save_image\n",
    "from torchvision.datasets import ImageFolder\n",
    "\n",
    "import sys, shutil\n",
    "from os import listdir, mkdir\n",
    "from PIL import Image\n",
    "from collections import Counter\n",
    "\n",
    "from IPython.display import display, clear_output"
   ]
  },
  {
   "cell_type": "code",
   "execution_count": 2,
   "metadata": {},
   "outputs": [],
   "source": [
    "ORIG_IMAGE_PATH = '../data/images'\n",
    "ORIG_LABEL_PATH = '../data/annotations'\n",
    "LABEL_PATH = '../data/annotations2'\n",
    "IMAGE_PATH = '../data/images2'\n",
    "RANDOM_SEED = 1234"
   ]
  },
  {
   "cell_type": "code",
   "execution_count": 3,
   "metadata": {
    "hide_input": false
   },
   "outputs": [],
   "source": [
    "def get_class_map():\n",
    "    ret = {}\n",
    "\n",
    "    i = 0\n",
    "    for fname in listdir(ORIG_LABEL_PATH):\n",
    "        img_class, _ = fname.split('.')\n",
    "        ret[img_class] = i\n",
    "        i += 1\n",
    "\n",
    "    return ret"
   ]
  },
  {
   "cell_type": "code",
   "execution_count": 4,
   "metadata": {
    "hide_input": false
   },
   "outputs": [],
   "source": [
    "def train_valid_test_split(train_fr=.7, valid_fr=.3, test_fr=0):\n",
    "    \"\"\"\n",
    "    Creates subfolders train, test, validation. \n",
    "    Splits annotation files into train, validation and test sets.\n",
    "    \"\"\"\n",
    "    random.seed(RANDOM_SEED)\n",
    "    \n",
    "    try:\n",
    "        mkdir(f'{LABEL_PATH}')\n",
    "        mkdir(f'{LABEL_PATH}/train')\n",
    "        mkdir(f'{LABEL_PATH}/test')\n",
    "        mkdir(f'{LABEL_PATH}/validation')\n",
    "    except:\n",
    "        pass\n",
    "      \n",
    "    # Make the split\n",
    "    for fname in listdir(ORIG_LABEL_PATH):\n",
    "        with open(f'{ORIG_LABEL_PATH}/{fname}', 'r') as fh:\n",
    "            img_ids = fh.read().splitlines()\n",
    "            random.shuffle(img_ids)\n",
    "            split1, split2 = math.ceil(test_fr * len(img_ids)), math.ceil(valid_fr * len(img_ids))\n",
    "            test_ids, valid_ids, train_ids = img_ids[:split1], img_ids[split1:split2], img_ids[split2:]\n",
    "            with open(f'{LABEL_PATH}/test/{fname}', 'w') as outfile:\n",
    "                outfile.write('\\n'.join(test_ids))\n",
    "            with open(f'{LABEL_PATH}/validation/{fname}', 'w') as outfile:\n",
    "                outfile.write('\\n'.join(valid_ids))\n",
    "            with open(f'{LABEL_PATH}/train/{fname}', 'w') as outfile:\n",
    "                outfile.writelines('\\n'.join(train_ids))\n",
    "            print(f'Wrote {len(train_ids)}, {len(valid_ids)}, {len(test_ids)} lines (of {len(img_ids)}) in {fname} (train, validation, test)')\n",
    "\n",
    "# Need to run only once. \n",
    "if False:\n",
    "    train_valid_test_split()"
   ]
  },
  {
   "cell_type": "code",
   "execution_count": 5,
   "metadata": {},
   "outputs": [],
   "source": [
    "def copy_images_to_subfolders():\n",
    "    \"\"\"\n",
    "    Copy images to subfolders by label\n",
    "    \"\"\"\n",
    "    log = []\n",
    "    # Loop through each set\n",
    "    for setname in listdir(LABEL_PATH):\n",
    "        display(f'Processing set: {setname}')\n",
    "        try:\n",
    "            mkdir(f'{IMAGE_PATH}/{setname}')\n",
    "        except:\n",
    "            pass\n",
    "        # Loop through each label\n",
    "        for fname in listdir(f'{LABEL_PATH}/{setname}'):\n",
    "            with open(f'{LABEL_PATH}/{setname}/{fname}', 'r') as fh:\n",
    "                img_class, _ = fname.split('.')\n",
    "                clear_output(wait=True)\n",
    "                display(f'Processing class: {img_class}')\n",
    "                try:\n",
    "                    mkdir(f'{IMAGE_PATH}/{setname}/{img_class}')\n",
    "                except:\n",
    "                    pass\n",
    "                with open(f'{LABEL_PATH}/{setname}/{fname}', 'r') as fh:\n",
    "                    destdir = f'{IMAGE_PATH}/{setname}/{img_class}'\n",
    "                    # Loop through each image\n",
    "                    for idx in fh.read().splitlines():\n",
    "                        shutil.copy(f'{ORIG_IMAGE_PATH}/im{idx}.jpg', destdir)\n",
    "                    log.append(f'Copied {len(listdir(destdir))} files in {destdir}')\n",
    "        \n",
    "    print('\\n'.join(log))\n",
    "    print(\"\\nDone\")\n",
    "\n",
    "\n",
    "# No need to run multiple times\n",
    "if False:\n",
    "    try:\n",
    "        mkdir(f'{IMAGE_PATH}')\n",
    "    except:\n",
    "        pass\n",
    "    copy_images_to_subfolders()"
   ]
  },
  {
   "cell_type": "code",
   "execution_count": 6,
   "metadata": {
    "hide_input": true
   },
   "outputs": [],
   "source": [
    "# We probably won't need this\n",
    "\n",
    "def get_dataset(set_path, max_items, image_path=IMAGE_PATH):\n",
    "    data = []\n",
    "\n",
    "    # mapping from class names to integers\n",
    "    class_map = get_class_map()\n",
    "\n",
    "    # loop through all the annotations\n",
    "    for fname in listdir(set_path):\n",
    "\n",
    "        img_class, _ = fname.split('.')\n",
    "        #print(f'Reading class: {img_class}')\n",
    "        clear_output(wait=True)\n",
    "        display(f'Reading set: {set_path}, class: {img_class}')\n",
    "\n",
    "        # open the annotation\n",
    "        with open(f'{set_path}/{fname}', 'r') as fh:\n",
    "\n",
    "            # get image ids from annotation file\n",
    "            img_ids = fh.read().splitlines()\n",
    "\n",
    "            # gather the images with labels\n",
    "            i = 0\n",
    "            for img_id in img_ids:\n",
    "                img_path = f'{image_path}/im{img_id}.jpg'\n",
    "                #print(img_path)\n",
    "                img = Image.open(img_path)\n",
    "                img_data = np.asarray(img)\n",
    "\n",
    "                # skip black-and-white images\n",
    "                if not len(img_data.shape) == 3:\n",
    "                    continue\n",
    "\n",
    "                img_data = img_data.flatten().astype(np.float32)\n",
    "\n",
    "                data.append([img_data, class_map[img_class]])\n",
    "\n",
    "                if i > max_items: break\n",
    "                i += 1\n",
    "                \n",
    "    return data"
   ]
  },
  {
   "cell_type": "code",
   "execution_count": 7,
   "metadata": {},
   "outputs": [],
   "source": [
    "def compute_batch_statistics(bs, max_items, root_path):\n",
    "    \"\"\"\n",
    "    We need to run this only once with given dataset\n",
    "    From https://forums.fast.ai/t/image-normalization-in-pytorch/7534/7?u=laochanlam\n",
    "    \"\"\"\n",
    "    \n",
    "    print(f'\\nProcessing folder: {root_path}')\n",
    "    \n",
    "    transform = transforms.Compose([\n",
    "        transforms.ToTensor(),\n",
    "    ])\n",
    "\n",
    "    dataset = ImageFolder(root=root_path, transform=transform)\n",
    "    dataloader = torch.utils.data.DataLoader(dataset, batch_size=bs, shuffle=False, num_workers=4)\n",
    "\n",
    "    pop_mean = []\n",
    "    pop_std = []\n",
    "    for i, data in enumerate(dataloader):\n",
    "        numpy_image = data[0].numpy().reshape(len(data[0]), 3, 128, 128)\n",
    "        pop_mean.append(np.mean(numpy_image, axis=(0,2,3)))\n",
    "        pop_std.append(np.std(numpy_image, axis=(0,2,3), ddof=1)) # ddof=1  => Sample standard deviation\n",
    "\n",
    "    mean, std = np.array(pop_mean).mean(axis=0), np.array(pop_std).mean(axis=0)\n",
    "    \n",
    "    print(f'Batch mean {mean}, std {std}')\n",
    "    return mean, std\n",
    "\n",
    "# Default values (calculated from train and validation data)\n",
    "MEAN_tr = (0.43805328, 0.40177783, 0.36756444)\n",
    "STD_tr = (0.3032908, 0.28911096, 0.2931179)\n",
    "MEAN_val = (0.4391351, 0.3997592, 0.36547714)\n",
    "STD_val = (0.30170158, 0.2876057, 0.29113483)\n",
    "\n",
    "# No need to run multiple times\n",
    "if False:\n",
    "    MEAN_tr, STD_tr = compute_batch_statistics(bs=64, max_items=256, root_path=f'{IMAGE_PATH}/train/')\n",
    "    MEAN_val, STD_val = compute_batch_statistics(bs=64, max_items=256, root_path=f'{IMAGE_PATH}/validation/')\n",
    "    "
   ]
  },
  {
   "cell_type": "code",
   "execution_count": 8,
   "metadata": {
    "hide_input": false
   },
   "outputs": [],
   "source": [
    "class TwoLayerModel(nn.Module):\n",
    "    def __init__(self, n_input, n_hidden1, n_hidden2, n_classes):\n",
    "        super().__init__()\n",
    "\n",
    "        self.input_layer = nn.Linear(n_input, n_hidden1)\n",
    "        self.hidden1 = nn.Linear(n_hidden1, n_hidden2)\n",
    "        self.hidden2 = nn.Linear(n_hidden2, n_classes)\n",
    "        self.relu = nn.ReLU()\n",
    "        self.bn0 = nn.BatchNorm1d(n_input)\n",
    "        self.bn1 = nn.BatchNorm1d(n_hidden1)\n",
    "        self.bn2 = nn.BatchNorm1d(n_hidden2)\n",
    "\n",
    "    def forward(self, x):\n",
    "        x = self.bn0(x)\n",
    "        x = self.input_layer(x)\n",
    "        x = self.relu(x)\n",
    "        x = self.bn1(x)\n",
    "        x = self.hidden1(x)\n",
    "        x = self.relu(x)\n",
    "        x = self.bn2(x)\n",
    "        x = self.hidden2(x)\n",
    "\n",
    "        return x"
   ]
  },
  {
   "cell_type": "code",
   "execution_count": 9,
   "metadata": {
    "hide_input": false
   },
   "outputs": [],
   "source": [
    "class OneLayerModel(nn.Module):\n",
    "    def __init__(self, n_input, n_hidden, n_classes):\n",
    "        super().__init__()\n",
    "        \n",
    "        self.bn0 = nn.BatchNorm1d(n_input)\n",
    "        self.input_layer = nn.Linear(n_input, n_hidden)\n",
    "        self.relu = nn.ReLU()\n",
    "        self.bn1 = nn.BatchNorm1d(n_hidden)\n",
    "        self.hidden = nn.Linear(n_hidden, n_classes)\n",
    "\n",
    "    def forward(self, x):\n",
    "        x = self.bn0(x)\n",
    "        x = self.input_layer(x)\n",
    "        x = self.relu(x)\n",
    "        x = self.bn1(x)\n",
    "        x = self.hidden(x)\n",
    "\n",
    "        return x"
   ]
  },
  {
   "cell_type": "code",
   "execution_count": 10,
   "metadata": {},
   "outputs": [],
   "source": [
    "def get_dataloader(root_path, bs, mean, std):\n",
    "    \n",
    "    transform = transforms.Compose([\n",
    "        #transforms.ToPILImage(),\n",
    "        #transforms.Grayscale(num_output_channels=1),\n",
    "        transforms.ToTensor(),\n",
    "        transforms.Normalize(mean=mean, std=std)\n",
    "    ])\n",
    "    \n",
    "    #train_data = get_dataset(f'{LABEL_PATH}/train', max_items)\n",
    "    dataset = ImageFolder(root=root_path, transform=transform)\n",
    "    dataloader = DataLoader(dataset, batch_size=bs, shuffle=True)\n",
    "    \n",
    "    return dataloader"
   ]
  },
  {
   "cell_type": "code",
   "execution_count": 11,
   "metadata": {},
   "outputs": [],
   "source": [
    "def train(dataloader, model, optimizer, criterion, device, n_epochs=50, losses=[]):\n",
    "\n",
    "    log = []\n",
    "    model.train()\n",
    "\n",
    "    for epoch in range(n_epochs):\n",
    "        \n",
    "        for i, batch in enumerate(dataloader):\n",
    "            X, y = batch\n",
    "            X = X.reshape(64, 128*128*3)\n",
    "            \n",
    "            X = X.to(device)\n",
    "            y = y.to(device)\n",
    "\n",
    "            optimizer.zero_grad()\n",
    "            y_pred = model(X)\n",
    "            loss = criterion(y_pred, y)\n",
    "            loss.backward()\n",
    "            optimizer.step()\n",
    "            \n",
    "            losses.append(loss)\n",
    "            \n",
    "            clear_output(wait=True)\n",
    "            display(f'Epoch: {epoch+1}, iteration: {i+1}, loss: {loss}')\n",
    "\n",
    "        log.append(f'Epoch: {epoch+1}, loss: {loss}')\n",
    "    \n",
    "    print('\\n'.join(log))\n",
    "    print('\\nDone training')"
   ]
  },
  {
   "cell_type": "code",
   "execution_count": 12,
   "metadata": {},
   "outputs": [],
   "source": [
    "use_cuda = False\n",
    "\n",
    "device = torch.device('cuda') if use_cuda else torch.device('cpu')\n",
    "\n",
    "lr = 0.01\n",
    "n_epochs = 2 #10\n",
    "bs = 64 #256\n",
    "\n",
    "n_classes = len(get_class_map().keys())\n",
    "\n",
    "#model = TwoLayerModel(128*128*3, 128, 64, n_classes).to(device)\n",
    "model = OneLayerModel(128*128*3, 128, n_classes).to(device)   # (self, D_in, H, D_out):\n",
    "\n",
    "criterion = nn.CrossEntropyLoss()\n",
    "optimizer = torch.optim.SGD(model.parameters(), lr=lr)"
   ]
  },
  {
   "cell_type": "code",
   "execution_count": 13,
   "metadata": {},
   "outputs": [],
   "source": [
    "train_dataloader = get_dataloader(f'{IMAGE_PATH}/train/', bs, MEAN_tr, STD_tr)"
   ]
  },
  {
   "cell_type": "code",
   "execution_count": 14,
   "metadata": {
    "scrolled": false
   },
   "outputs": [
    {
     "data": {
      "text/plain": [
       "'Epoch: 1, iteration: 221, loss: 2.3439509868621826'"
      ]
     },
     "metadata": {},
     "output_type": "display_data"
    },
    {
     "ename": "RuntimeError",
     "evalue": "shape '[64, 49152]' is invalid for input of size 344064",
     "output_type": "error",
     "traceback": [
      "\u001b[0;31m---------------------------------------------------------------------------\u001b[0m",
      "\u001b[0;31mRuntimeError\u001b[0m                              Traceback (most recent call last)",
      "\u001b[0;32m<ipython-input-14-9bac0d1f8f30>\u001b[0m in \u001b[0;36m<module>\u001b[0;34m\u001b[0m\n\u001b[0;32m----> 1\u001b[0;31m \u001b[0mtrain\u001b[0m\u001b[0;34m(\u001b[0m\u001b[0mtrain_dataloader\u001b[0m\u001b[0;34m,\u001b[0m \u001b[0mmodel\u001b[0m\u001b[0;34m,\u001b[0m \u001b[0moptimizer\u001b[0m\u001b[0;34m,\u001b[0m \u001b[0mcriterion\u001b[0m\u001b[0;34m,\u001b[0m \u001b[0mdevice\u001b[0m\u001b[0;34m,\u001b[0m \u001b[0mn_epochs\u001b[0m\u001b[0;34m)\u001b[0m\u001b[0;34m\u001b[0m\u001b[0;34m\u001b[0m\u001b[0m\n\u001b[0m",
      "\u001b[0;32m<ipython-input-11-e9776f01c3f9>\u001b[0m in \u001b[0;36mtrain\u001b[0;34m(dataloader, model, optimizer, criterion, device, n_epochs, losses)\u001b[0m\n\u001b[1;32m      8\u001b[0m         \u001b[0;32mfor\u001b[0m \u001b[0mi\u001b[0m\u001b[0;34m,\u001b[0m \u001b[0mbatch\u001b[0m \u001b[0;32min\u001b[0m \u001b[0menumerate\u001b[0m\u001b[0;34m(\u001b[0m\u001b[0mdataloader\u001b[0m\u001b[0;34m)\u001b[0m\u001b[0;34m:\u001b[0m\u001b[0;34m\u001b[0m\u001b[0;34m\u001b[0m\u001b[0m\n\u001b[1;32m      9\u001b[0m             \u001b[0mX\u001b[0m\u001b[0;34m,\u001b[0m \u001b[0my\u001b[0m \u001b[0;34m=\u001b[0m \u001b[0mbatch\u001b[0m\u001b[0;34m\u001b[0m\u001b[0;34m\u001b[0m\u001b[0m\n\u001b[0;32m---> 10\u001b[0;31m             \u001b[0mX\u001b[0m \u001b[0;34m=\u001b[0m \u001b[0mX\u001b[0m\u001b[0;34m.\u001b[0m\u001b[0mreshape\u001b[0m\u001b[0;34m(\u001b[0m\u001b[0;36m64\u001b[0m\u001b[0;34m,\u001b[0m \u001b[0;36m128\u001b[0m\u001b[0;34m*\u001b[0m\u001b[0;36m128\u001b[0m\u001b[0;34m*\u001b[0m\u001b[0;36m3\u001b[0m\u001b[0;34m)\u001b[0m\u001b[0;34m\u001b[0m\u001b[0;34m\u001b[0m\u001b[0m\n\u001b[0m\u001b[1;32m     11\u001b[0m \u001b[0;34m\u001b[0m\u001b[0m\n\u001b[1;32m     12\u001b[0m             \u001b[0mX\u001b[0m \u001b[0;34m=\u001b[0m \u001b[0mX\u001b[0m\u001b[0;34m.\u001b[0m\u001b[0mto\u001b[0m\u001b[0;34m(\u001b[0m\u001b[0mdevice\u001b[0m\u001b[0;34m)\u001b[0m\u001b[0;34m\u001b[0m\u001b[0;34m\u001b[0m\u001b[0m\n",
      "\u001b[0;31mRuntimeError\u001b[0m: shape '[64, 49152]' is invalid for input of size 344064"
     ]
    }
   ],
   "source": [
    "train(train_dataloader, model, optimizer, criterion, device, n_epochs)"
   ]
  },
  {
   "cell_type": "code",
   "execution_count": null,
   "metadata": {},
   "outputs": [],
   "source": []
  },
  {
   "cell_type": "code",
   "execution_count": null,
   "metadata": {},
   "outputs": [],
   "source": []
  }
 ],
 "metadata": {
  "kernelspec": {
   "display_name": "Adv ml",
   "language": "python",
   "name": "advml"
  },
  "language_info": {
   "codemirror_mode": {
    "name": "ipython",
    "version": 3
   },
   "file_extension": ".py",
   "mimetype": "text/x-python",
   "name": "python",
   "nbconvert_exporter": "python",
   "pygments_lexer": "ipython3",
   "version": "3.8.1"
  }
 },
 "nbformat": 4,
 "nbformat_minor": 2
}
