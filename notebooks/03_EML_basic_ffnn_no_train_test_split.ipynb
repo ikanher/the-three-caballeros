{
 "cells": [
  {
   "cell_type": "code",
   "execution_count": 1,
   "metadata": {
    "hide_input": false
   },
   "outputs": [],
   "source": [
    "import random, math\n",
    "import numpy as np\n",
    "import torch\n",
    "\n",
    "from torch import nn\n",
    "from torch.utils.data import TensorDataset, DataLoader, RandomSampler, Dataset\n",
    "\n",
    "import torchvision.transforms as transforms\n",
    "from torchvision.utils import save_image\n",
    "from torchvision.datasets import ImageFolder\n",
    "\n",
    "import sys, shutil\n",
    "from os import listdir, mkdir\n",
    "from PIL import Image\n",
    "from collections import Counter, defaultdict\n",
    "\n",
    "from IPython.display import display, clear_output"
   ]
  },
  {
   "cell_type": "code",
   "execution_count": 2,
   "metadata": {},
   "outputs": [],
   "source": [
    "ORIG_IMAGE_PATH = '../data/images'\n",
    "ORIG_LABEL_PATH = '../data/annotations'\n",
    "LABEL_PATH = '../data/annotations2'\n",
    "IMAGE_PATH = '../data/images2'\n",
    "RANDOM_SEED = 1234"
   ]
  },
  {
   "cell_type": "code",
   "execution_count": 3,
   "metadata": {
    "hide_input": false
   },
   "outputs": [],
   "source": [
    "def get_class_map():\n",
    "    classnametoint = {}\n",
    "    inttoclassname = {}\n",
    "\n",
    "    i = 0\n",
    "    label_files = sorted(listdir(ORIG_LABEL_PATH))\n",
    "    for fname in label_files:\n",
    "        img_class, _ = fname.split('.')\n",
    "        classnametoint[img_class] = i\n",
    "        inttoclassname[i] = img_class\n",
    "        i += 1\n",
    "\n",
    "    return classnametoint, inttoclassname"
   ]
  },
  {
   "cell_type": "code",
   "execution_count": 4,
   "metadata": {
    "hide_input": false
   },
   "outputs": [],
   "source": [
    "def train_valid_test_split(train_fr=.6, valid_fr=.2, test_fr=.2):\n",
    "    \"\"\"\n",
    "    Creates subfolders train, test, validation. \n",
    "    Splits annotation files into train, validation and test sets.\n",
    "    \"\"\"\n",
    "    random.seed(RANDOM_SEED)\n",
    "    \n",
    "    for dir_name in ['', '/train', '/validation', '/test']: \n",
    "        try:\n",
    "            mkdir(f'{LABEL_PATH}{dir_name}')\n",
    "        except:\n",
    "            pass\n",
    "      \n",
    "    # Make the split\n",
    "    for fname in listdir(ORIG_LABEL_PATH):\n",
    "        with open(f'{ORIG_LABEL_PATH}/{fname}', 'r') as fh:\n",
    "            img_ids = fh.read().splitlines()\n",
    "            random.shuffle(img_ids)\n",
    "            split1, split2 = math.ceil(test_fr * len(img_ids)), math.ceil(valid_fr * len(img_ids))\n",
    "            test_ids, valid_ids, train_ids = img_ids[:split1], img_ids[split1:split1+split2], img_ids[split1+split2:]\n",
    "            with open(f'{LABEL_PATH}/test/{fname}', 'w') as outfile:\n",
    "                outfile.write('\\n'.join(test_ids))\n",
    "            with open(f'{LABEL_PATH}/validation/{fname}', 'w') as outfile:\n",
    "                outfile.write('\\n'.join(valid_ids))\n",
    "            with open(f'{LABEL_PATH}/train/{fname}', 'w') as outfile:\n",
    "                outfile.writelines('\\n'.join(train_ids))\n",
    "            print(f'Wrote {len(train_ids)}, {len(valid_ids)}, {len(test_ids)} lines (of {len(img_ids)}) in {fname} (train, validation, test)')\n",
    "\n",
    "# Need to run only once. \n",
    "if False:\n",
    "    train_valid_test_split()"
   ]
  },
  {
   "cell_type": "code",
   "execution_count": 5,
   "metadata": {},
   "outputs": [],
   "source": [
    "def copy_images_to_subfolders():\n",
    "    \"\"\"\n",
    "    Copy images to subfolders by set (train, validation, test)\n",
    "    \"\"\"\n",
    "    log = []\n",
    "    # Loop through each set\n",
    "    for setname in listdir(LABEL_PATH):\n",
    "        display(f'Processing set: {setname}')\n",
    "        try:\n",
    "            mkdir(f'{IMAGE_PATH}/{setname}')\n",
    "            mkdir(f'{IMAGE_PATH}/{setname}/0')  # Just an arbitrary subfolder to support using ImageFolder dataset\n",
    "        except:\n",
    "            pass\n",
    "        # Loop through each label\n",
    "        for fname in listdir(f'{LABEL_PATH}/{setname}'):\n",
    "            with open(f'{LABEL_PATH}/{setname}/{fname}', 'r') as fh:\n",
    "                img_class, _ = fname.split('.')\n",
    "                clear_output(wait=True)\n",
    "                display(f'Processing class: {img_class}')\n",
    "                destdir = f'{IMAGE_PATH}/{setname}/0'\n",
    "                # Loop through each image\n",
    "                for idx in fh.read().splitlines():\n",
    "                    shutil.copy(f'{ORIG_IMAGE_PATH}/im{idx}.jpg', destdir)\n",
    "                log.append(f'Copied {len(listdir(destdir))} files in {destdir}')\n",
    "        \n",
    "    print('\\n'.join(log))\n",
    "    print(\"\\nDone\")\n",
    "\n",
    "\n",
    "# No need to run multiple times\n",
    "if False:\n",
    "    try:\n",
    "        mkdir(f'{IMAGE_PATH}')\n",
    "    except:\n",
    "        pass\n",
    "    copy_images_to_subfolders()"
   ]
  },
  {
   "cell_type": "code",
   "execution_count": 6,
   "metadata": {},
   "outputs": [],
   "source": [
    "def compute_batch_statistics(bs, max_items, root_path):\n",
    "    \"\"\"\n",
    "    We need to run this only once with given dataset\n",
    "    From https://forums.fast.ai/t/image-normalization-in-pytorch/7534/7?u=laochanlam\n",
    "    \"\"\"\n",
    "    print(f'\\nProcessing folder: {root_path}')\n",
    "    \n",
    "    transform = transforms.Compose([\n",
    "        transforms.ToTensor(),\n",
    "    ])\n",
    "    dataset = ImageFolder(root=root_path, transform=transform)\n",
    "    dataloader = torch.utils.data.DataLoader(dataset, batch_size=bs, shuffle=False, num_workers=4)\n",
    "\n",
    "    pop_mean = []\n",
    "    pop_std = []\n",
    "    for i, data in enumerate(dataloader):\n",
    "        numpy_image = data[0].numpy().reshape(len(data[0]), 3, 128, 128)\n",
    "        pop_mean.append(np.mean(numpy_image, axis=(0,2,3)))\n",
    "        pop_std.append(np.std(numpy_image, axis=(0,2,3), ddof=1)) # ddof=1  => Sample standard deviation\n",
    "\n",
    "    mean, std = np.array(pop_mean).mean(axis=0), np.array(pop_std).mean(axis=0)\n",
    "    \n",
    "    print(f'Batch mean {mean}, std {std}')\n",
    "    return mean, std\n",
    "\n",
    "# Default values (calculated from train and validation data)\n",
    "MEAN_tr = (0.4359158, 0.4008995, 0.36738247)\n",
    "STD_tr = (0.30338776, 0.28947875, 0.29492074)\n",
    "MEAN_val = (0.4338689, 0.40064156, 0.3681074)\n",
    "STD_val = (0.3044515, 0.29112726, 0.2954069)\n",
    "MEAN_test = (0.43964133, 0.40063056, 0.3668358)\n",
    "STD_test = (0.3038753, 0.29096046, 0.29495955)\n",
    "\n",
    "# No need to run multiple times\n",
    "if False:\n",
    "    MEAN_tr, STD_tr = compute_batch_statistics(bs=64, max_items=256, root_path=f'{IMAGE_PATH}/train/')\n",
    "    MEAN_val, STD_val = compute_batch_statistics(bs=64, max_items=256, root_path=f'{IMAGE_PATH}/validation/')\n",
    "    MEAN_test, STD_test = compute_batch_statistics(bs=64, max_items=256, root_path=f'{IMAGE_PATH}/test/')"
   ]
  },
  {
   "cell_type": "code",
   "execution_count": 7,
   "metadata": {},
   "outputs": [],
   "source": [
    "class TheThreeCaballerosDataset(Dataset):\n",
    "    def __init__(self, labels_root, images_root, transformations=None):\n",
    "        self.skipped = []\n",
    "        self.labels_root = labels_root\n",
    "        self.images_root = images_root\n",
    "        self.transformations = transformations\n",
    "        # Preprocess data\n",
    "        self.labels, self.images = self.get_data()\n",
    "        self.keys = list(self.labels.keys())\n",
    "        \n",
    "    def get_data(self):\n",
    "        images = {}\n",
    "        label_files = listdir(self.labels_root)\n",
    "        labels = defaultdict(lambda: [0.0]*len(label_files))    # Init to array [False, False, ...]\n",
    "        # Loop through labels\n",
    "        for idx, fname in enumerate(sorted(label_files)):\n",
    "            img_class, _ = fname.split('.')\n",
    "            class_int = class_map[img_class]\n",
    "            # open the annotation file\n",
    "            with open(f'{self.labels_root}{fname}', 'r') as fh: \n",
    "                # get image ids from annotation file\n",
    "                img_ids = fh.read().splitlines()\n",
    "                # extract image data\n",
    "                for im_id in sorted(img_ids):\n",
    "                    key = int(im_id)\n",
    "                    # load image if it hasn't been loaded yet\n",
    "                    if not im_id in images:\n",
    "                        img = self.get_image_tensor(f'{self.images_root}/im{im_id}.jpg')\n",
    "                        if img is None: # Might be None if transformation fails or not RGB\n",
    "                            self.skipped.append(im_id)\n",
    "                            continue\n",
    "                    images[key] = img\n",
    "                    # label\n",
    "                    labels[key][class_int] = 1.0\n",
    "                    \n",
    "        return labels, images\n",
    "    \n",
    "    def get_image_tensor(self, image_path):\n",
    "        img = Image.open(image_path)\n",
    "        try:\n",
    "            img_tensor = self.transformations(img.convert(\"RGB\"))\n",
    "            img.close()\n",
    "            if img_tensor.shape[0] == 3:  # Tensor C * W * H \n",
    "                return img_tensor\n",
    "        finally:\n",
    "            img.close() # Finally block is executed before returning from try\n",
    "        return None\n",
    "        \n",
    "    def __getitem__(self, idx):\n",
    "        image_id = self.keys[idx]\n",
    "        label_tensor = torch.from_numpy(np.array(self.labels[image_id]))\n",
    "        return self.images[image_id], label_tensor\n",
    "\n",
    "    def __len__(self):\n",
    "        return len(self.labels)"
   ]
  },
  {
   "cell_type": "code",
   "execution_count": 8,
   "metadata": {
    "hide_input": false
   },
   "outputs": [],
   "source": [
    "def get_dataloader(labels_root, images_root, bs, transformations):\n",
    "\n",
    "    dataset = TheThreeCaballerosDataset(labels_root, images_root, transformations)\n",
    "    dataloader = DataLoader(dataset, batch_size=bs, shuffle=True)\n",
    "    \n",
    "    return dataloader"
   ]
  },
  {
   "cell_type": "code",
   "execution_count": 9,
   "metadata": {
    "hide_input": false
   },
   "outputs": [],
   "source": [
    "class TwoLayerModel(nn.Module):\n",
    "    def __init__(self, n_input, n_hidden1, n_hidden2, n_classes):\n",
    "        super().__init__()\n",
    "\n",
    "        self.input_layer = nn.Linear(n_input, n_hidden1)\n",
    "        self.hidden1 = nn.Linear(n_hidden1, n_hidden2)\n",
    "        self.hidden2 = nn.Linear(n_hidden2, n_classes)\n",
    "        self.relu = nn.ReLU()\n",
    "        self.bn0 = nn.BatchNorm1d(n_input)\n",
    "        self.bn1 = nn.BatchNorm1d(n_hidden1)\n",
    "        self.bn2 = nn.BatchNorm1d(n_hidden2)\n",
    "\n",
    "    def forward(self, x):\n",
    "        x = self.bn0(x)\n",
    "        x = self.input_layer(x)\n",
    "        x = self.relu(x)\n",
    "        x = self.bn1(x)\n",
    "        x = self.hidden1(x)\n",
    "        x = self.relu(x)\n",
    "        x = self.bn2(x)\n",
    "        x = self.hidden2(x)\n",
    "\n",
    "        return x"
   ]
  },
  {
   "cell_type": "code",
   "execution_count": 10,
   "metadata": {
    "hide_input": false
   },
   "outputs": [],
   "source": [
    "class OneLayerModel(nn.Module):\n",
    "    def __init__(self, n_input, n_hidden, n_classes):\n",
    "        super().__init__()\n",
    "        \n",
    "        self.bn0 = nn.BatchNorm1d(n_input)\n",
    "        self.input_layer = nn.Linear(n_input, n_hidden)\n",
    "        self.relu = nn.ReLU()\n",
    "        self.bn1 = nn.BatchNorm1d(n_hidden)\n",
    "        self.hidden = nn.Linear(n_hidden, n_classes)\n",
    "\n",
    "    def forward(self, x):\n",
    "        x = self.bn0(x)\n",
    "        x = self.input_layer(x)\n",
    "        x = self.relu(x)\n",
    "        x = self.bn1(x)\n",
    "        x = self.hidden(x)\n",
    "\n",
    "        return x"
   ]
  },
  {
   "cell_type": "code",
   "execution_count": 11,
   "metadata": {
    "hide_input": false
   },
   "outputs": [],
   "source": [
    "def train(dataloader, model, optimizer, criterion, device, n_epochs=50, losses=[]):\n",
    "\n",
    "    log = []\n",
    "    model.train()\n",
    "\n",
    "    for epoch in range(n_epochs):\n",
    "        \n",
    "        for i, batch in enumerate(dataloader):\n",
    "            X, y = batch\n",
    "            X = X.reshape(X.shape[0], 128*128*3)\n",
    "            \n",
    "            X = X.to(device)\n",
    "            y = y.to(device)\n",
    "\n",
    "            optimizer.zero_grad()\n",
    "            y_pred = model(X)\n",
    "            loss = criterion(y_pred, y)\n",
    "            loss.backward()\n",
    "            optimizer.step()\n",
    "            \n",
    "            losses.append(loss)\n",
    "            \n",
    "            clear_output(wait=True)\n",
    "            display(f'Epoch: {epoch+1}, iteration: {i+1}, loss: {loss}')\n",
    "\n",
    "        log.append(f'Epoch: {epoch+1}, loss: {loss}')\n",
    "    \n",
    "    print('\\n'.join(log))\n",
    "    print('\\nDone training')"
   ]
  },
  {
   "cell_type": "code",
   "execution_count": 12,
   "metadata": {
    "hide_input": true
   },
   "outputs": [],
   "source": [
    "use_cuda = False\n",
    "\n",
    "device = torch.device('cuda') if use_cuda else torch.device('cpu')\n",
    "\n",
    "lr = 0.01\n",
    "n_epochs = 2 #10\n",
    "bs = 64 #256\n",
    "\n",
    "class_map, _ = get_class_map()\n",
    "n_classes = len(class_map.keys())\n",
    "    \n",
    "#model = TwoLayerModel(128*128*3, 128, 64, n_classes).to(device)\n",
    "model = OneLayerModel(128*128*3, 128, n_classes).to(device)   # (self, D_in, H, D_out):\n",
    "\n",
    "criterion = nn.BCEWithLogitsLoss()\n",
    "optimizer = torch.optim.SGD(model.parameters(), lr=lr)"
   ]
  },
  {
   "cell_type": "code",
   "execution_count": 13,
   "metadata": {},
   "outputs": [
    {
     "name": "stdout",
     "output_type": "stream",
     "text": [
      "Skipped: 0\n"
     ]
    }
   ],
   "source": [
    "#transforms.Grayscale(num_output_channels=1),\n",
    "\n",
    "transformations = {\n",
    "    'train' : transforms.Compose([\n",
    "            transforms.ToTensor(),\n",
    "            transforms.Normalize(mean=MEAN_tr, std=STD_tr)\n",
    "        ]),\n",
    "    'validation': transforms.Compose([\n",
    "            transforms.ToTensor(),\n",
    "            transforms.Normalize(mean=MEAN_val, std=STD_val)\n",
    "        ]),\n",
    "    'test': transforms.Compose([\n",
    "            transforms.ToTensor(),\n",
    "            transforms.Normalize(mean=MEAN_test, std=STD_test)\n",
    "        ])\n",
    "}\n",
    "\n",
    "train_dataloader = get_dataloader(\n",
    "    labels_root=f'{LABEL_PATH}/train/', images_root=f'{IMAGE_PATH}/train/0/', bs=bs, transformations=transformations['train'])\n",
    "print(f'Skipped: {len(train_dataloader.dataset.skipped)}')\n",
    "\n",
    "#validation_dataloader = get_dataloader(\n",
    "#    labels_root=f'{LABEL_PATH}/validation/', images_root=f'{IMAGE_PATH}/validation/0/', bs=bs, transformations=transformations['validation'])\n",
    "#print(f'Skipped: {len(validation_dataloader.dataset.skipped)}')"
   ]
  },
  {
   "cell_type": "code",
   "execution_count": 15,
   "metadata": {
    "scrolled": false
   },
   "outputs": [
    {
     "data": {
      "text/plain": [
       "'Epoch: 2, iteration: 124, loss: 0.647629251648646'"
      ]
     },
     "metadata": {},
     "output_type": "display_data"
    },
    {
     "name": "stdout",
     "output_type": "stream",
     "text": [
      "Epoch: 1, loss: 0.674713318117909\n",
      "Epoch: 2, loss: 0.647629251648646\n",
      "\n",
      "Done training\n"
     ]
    }
   ],
   "source": [
    "train(train_dataloader, model, optimizer, criterion, device, n_epochs)"
   ]
  },
  {
   "cell_type": "code",
   "execution_count": null,
   "metadata": {},
   "outputs": [],
   "source": []
  },
  {
   "cell_type": "code",
   "execution_count": null,
   "metadata": {},
   "outputs": [],
   "source": []
  },
  {
   "cell_type": "code",
   "execution_count": null,
   "metadata": {},
   "outputs": [],
   "source": []
  }
 ],
 "metadata": {
  "kernelspec": {
   "display_name": "Adv ml",
   "language": "python",
   "name": "advml"
  },
  "language_info": {
   "codemirror_mode": {
    "name": "ipython",
    "version": 3
   },
   "file_extension": ".py",
   "mimetype": "text/x-python",
   "name": "python",
   "nbconvert_exporter": "python",
   "pygments_lexer": "ipython3",
   "version": "3.8.1"
  }
 },
 "nbformat": 4,
 "nbformat_minor": 2
}
