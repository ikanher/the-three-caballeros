{
 "cells": [
  {
   "cell_type": "code",
   "execution_count": 2267,
   "metadata": {},
   "outputs": [],
   "source": [
    "import numpy as np\n",
    "import torch\n",
    "import torchvision\n",
    "import matplotlib.pyplot as plt\n",
    "\n",
    "from torch import nn\n",
    "from torch.utils.data import TensorDataset, DataLoader\n",
    "\n",
    "import torchvision.transforms as transforms\n",
    "from torchvision.datasets import ImageFolder\n",
    "from torchvision.models import vgg16, vgg16_bn, resnet18, resnet34, resnet50, resnet101, resnet152\n",
    "\n",
    "from sklearn.model_selection import train_test_split\n",
    "import sklearn.metrics as skm\n",
    "from sklearn.metrics import f1_score\n",
    "\n",
    "from scipy.special import softmax\n",
    "\n",
    "import seaborn as sn\n",
    "\n",
    "from os import listdir, path\n",
    "from PIL import Image\n",
    "from collections import defaultdict\n",
    "import csv\n",
    "import re\n",
    "import os\n",
    "import random\n",
    "\n",
    "from IPython.display import display, clear_output, Image as IPython_Image"
   ]
  },
  {
   "cell_type": "code",
   "execution_count": 2268,
   "metadata": {},
   "outputs": [
    {
     "data": {
      "text/plain": [
       "'/scratch/project_2003030/notebooks'"
      ]
     },
     "execution_count": 2268,
     "metadata": {},
     "output_type": "execute_result"
    }
   ],
   "source": [
    "pwd"
   ]
  },
  {
   "cell_type": "code",
   "execution_count": 2269,
   "metadata": {},
   "outputs": [
    {
     "data": {
      "text/plain": [
       "True"
      ]
     },
     "execution_count": 2269,
     "metadata": {},
     "output_type": "execute_result"
    }
   ],
   "source": [
    "torch.cuda.is_available()"
   ]
  },
  {
   "cell_type": "markdown",
   "metadata": {
    "heading_collapsed": true
   },
   "source": [
    "# Data loading"
   ]
  },
  {
   "cell_type": "code",
   "execution_count": 2270,
   "metadata": {
    "hidden": true
   },
   "outputs": [],
   "source": [
    "DATA_PATH = '../data'\n",
    "IMAGE_PATH = '../data/images'\n",
    "LABEL_PATH = '../data/annotations'\n",
    "\n",
    "# GIVEN DATASET\n",
    "MEAN = (0.43672, 0.40107, 0.36762)\n",
    "STD = (0.30139, 0.28781, 0.29236)\n",
    "\n",
    "# IMAGENET\n",
    "#MEAN = (0.485, 0.456, 0.406)\n",
    "#STD = (0.229, 0.224, 0.225)\n",
    "\n",
    "# RESNET\n",
    "#MEAN = (0.485, 0.456, 0.406)\n",
    "#STD = (0.229, 0.224, 0.225)\n",
    "       \n",
    "# Define default pos_weights for nn.BCEWithLogitsLoss(pos_weights). These were calculated using\n",
    "# the function calculate_label_statistics (present in notebook 08, but removed from 09 as unnecessary to keep) \n",
    "label_pos_weights_for_loss = np.array([209.52631579, 55.87203791, 58.40594059, 16.77777778, 44.80152672, 5.25, 25.14379085, 5.75675676, 33.09090909, 2.15540363, 5.51465798, 163.38356164, 119., 37.46153846], dtype=np.float32)"
   ]
  },
  {
   "cell_type": "code",
   "execution_count": 2271,
   "metadata": {
    "hidden": true
   },
   "outputs": [],
   "source": [
    "def number_of_classes():\n",
    "    return len(listdir(LABEL_PATH))"
   ]
  },
  {
   "cell_type": "code",
   "execution_count": 2272,
   "metadata": {
    "hidden": true
   },
   "outputs": [],
   "source": [
    "def get_class_map():\n",
    "    ret = {}\n",
    "\n",
    "    i = 0\n",
    "    for fname in sorted(listdir(LABEL_PATH)):\n",
    "        img_class, _ = fname.split('.')\n",
    "        ret[img_class] = i\n",
    "        i += 1\n",
    "\n",
    "    return ret"
   ]
  },
  {
   "cell_type": "code",
   "execution_count": 2273,
   "metadata": {
    "hidden": true
   },
   "outputs": [],
   "source": [
    "def calculate_label_statistics(label_array, total_n_images):\n",
    "    \"\"\"Calculate label statistics to be used as pos_weights in BCEWithLogitsLoss. This was used to calculate the\n",
    "    values saved in the variable label_pos_weights_for_loss (no need to recalculate as these don't change in the\n",
    "    given training data set).\n",
    "\n",
    "    Args:\n",
    "        label_array (array): n x m array of labels, where n is number of samples and m is number of labels\n",
    "        total_n_images (int): total number of images in the set that the labels are from. Equals len(n).\n",
    "    \"\"\"\n",
    "    label_arr = np.array(label_array).astype(int)\n",
    "    pos_label_counts_all = np.sum(label_arr, axis=0)\n",
    "    neg_label_counts_all = total_n_images - pos_label_counts_all\n",
    "    relative_label_occurrances =  pos_label_counts_all/total_n_images\n",
    "    pos_weights = neg_label_counts_all / pos_label_counts_all\n",
    "    \n",
    "    return pos_weights, pos_label_counts_all, neg_label_counts_all, relative_label_occurrances"
   ]
  },
  {
   "cell_type": "code",
   "execution_count": 2274,
   "metadata": {
    "hidden": true
   },
   "outputs": [],
   "source": [
    "def write_labels_to_csv(name_of_set, label_array):\n",
    "    filepath = f'../data/labels_{name_of_set}.csv'\n",
    "    \n",
    "    label_arr = np.array(label_array).astype(int)\n",
    "\n",
    "    # Save 2D numpy array to csv file\n",
    "    np.savetxt(filepath, label_arr, delimiter=',', fmt='%d')"
   ]
  },
  {
   "cell_type": "code",
   "execution_count": 2275,
   "metadata": {
    "hidden": true
   },
   "outputs": [],
   "source": [
    "def get_data(train_fr=.6, max_images_per_class=1e9, LABEL_PATH=LABEL_PATH, IMAGE_PATH=IMAGE_PATH):\n",
    "    \n",
    "    # mapping from class names to integers\n",
    "    class_map = get_class_map()\n",
    "\n",
    "    # create a dictionary to hold our label vectors\n",
    "    n_classes = len(class_map.keys())\n",
    "    img_to_class = defaultdict(lambda: np.zeros(n_classes))\n",
    "\n",
    "    # another dictionary to hold the actual image data\n",
    "    img_to_data = dict()\n",
    "    \n",
    "    # loop through all the annotations\n",
    "    for fname in sorted(listdir(LABEL_PATH)):\n",
    "        img_label, _ = fname.split('.')\n",
    "        img_class = class_map[img_label]\n",
    "        print(f'Reading label: {img_label}, img_class: {img_class}')\n",
    "        \n",
    "        # open the annotation file\n",
    "        i = 0\n",
    "        with open(f'{LABEL_PATH}/{fname}', 'r') as fh:\n",
    "\n",
    "            # get image ids from annotation file\n",
    "            img_ids = fh.read().splitlines()\n",
    "            \n",
    "            # gather the images with labels\n",
    "            for i, img_id in enumerate(img_ids):\n",
    "                \n",
    "                # let's not process images unnecessarily\n",
    "                if not img_id in img_to_data:\n",
    "\n",
    "                    img_path = f'{IMAGE_PATH}/im{img_id}.jpg'\n",
    "                    img = Image.open(img_path)\n",
    "\n",
    "                    # append to dict\n",
    "                    img_to_data[img_id] = img.convert('RGB')\n",
    "\n",
    "                # get one-hot encoded vector of image classes\n",
    "                img_classes = img_to_class[img_id]\n",
    "\n",
    "                # add new class to image vector\n",
    "                img_class = class_map[img_label]\n",
    "                img_classes[img_class] = 1\n",
    "\n",
    "                # store the updated vector back\n",
    "                img_to_class[img_id] = img_classes\n",
    "\n",
    "                if i >= max_images_per_class:\n",
    "                    break\n",
    "\n",
    "                i += 1\n",
    "\n",
    "    # load also all the images that do not have any labels\n",
    "    i = 0\n",
    "    print(f'Reading images without labels..')\n",
    "    for fname in listdir(IMAGE_PATH):\n",
    "        m = re.match('im(\\d+)', fname)\n",
    "        img_id = m.group(1)\n",
    "\n",
    "        if img_id not in img_to_data:\n",
    "            img_path = f'{IMAGE_PATH}/im{img_id}.jpg'\n",
    "            img = Image.open(img_path)\n",
    "\n",
    "            # append to dict\n",
    "            img_to_data[img_id] = img.convert('RGB')\n",
    "\n",
    "            if i >= max_images_per_class:\n",
    "                break\n",
    "\n",
    "            i += 1\n",
    "\n",
    "    print('Creating train/valid/test split..')\n",
    "    # collect data to a single array\n",
    "    X = []\n",
    "    y = []\n",
    "    for img_id in img_to_data.keys():\n",
    "        X.append(img_to_data[img_id])\n",
    "        y.append(img_to_class[img_id])\n",
    "\n",
    "    if train_fr == 1:\n",
    "        print('Done.')\n",
    "        return X, [], [], y, [], []\n",
    "        \n",
    "    X_train, X_tmp, y_train, y_tmp = train_test_split(X, y, train_size=train_fr, random_state=42)\n",
    "    X_test, X_valid, y_test, y_valid = train_test_split(X_tmp, y_tmp, train_size=.5, test_size=.5, random_state=42)\n",
    "    \n",
    "    print('Done.')\n",
    "    return X_train, X_valid, X_test, y_train, y_valid, y_test"
   ]
  },
  {
   "cell_type": "code",
   "execution_count": 2276,
   "metadata": {
    "hidden": true
   },
   "outputs": [],
   "source": [
    "def get_test_data(test_image_path):\n",
    "    \n",
    "    # dictionary to hold the image data\n",
    "    img_to_data = dict()\n",
    "    \n",
    "    # loop through all the test images\n",
    "    i = 0\n",
    "    print(f'Reading test images..')\n",
    "    for fname in listdir(test_image_path):\n",
    "        m = re.match('im(\\d+)', fname)\n",
    "        img_id = m.group(1)\n",
    "\n",
    "        img_path = f'{test_image_path}/im{img_id}.jpg'\n",
    "        img = Image.open(img_path)\n",
    "\n",
    "        # append to dict\n",
    "        img_to_data[img_id] = img.convert('RGB')\n",
    "        i += 1\n",
    "\n",
    "    # collect data to a single array\n",
    "    X = []\n",
    "    for img_id in sorted(img_to_data.keys()):\n",
    "        X.append(img_to_data[img_id])\n",
    "   \n",
    "    print('Done.')\n",
    "    return X"
   ]
  },
  {
   "cell_type": "code",
   "execution_count": 2277,
   "metadata": {
    "hidden": true
   },
   "outputs": [],
   "source": [
    "class TransformingDataset(torch.utils.data.Dataset):\n",
    "    def __init__(self, X, y, transforms=None):\n",
    "        self.X = X\n",
    "        self.y = y\n",
    "        self.transforms = transforms\n",
    "\n",
    "    def __len__(self):\n",
    "        return len(self.y)\n",
    "\n",
    "    def __getitem__(self, idx):\n",
    "        img_data = self.X[idx]\n",
    "        img_class = self.y[idx]\n",
    "\n",
    "        if self.transforms:\n",
    "            img_data = self.transforms(img_data)\n",
    "\n",
    "        return img_data, img_class"
   ]
  },
  {
   "cell_type": "code",
   "execution_count": 2278,
   "metadata": {
    "hidden": true
   },
   "outputs": [],
   "source": [
    "class TransformingTestDataset(torch.utils.data.Dataset):\n",
    "    def __init__(self, X, transforms=None):\n",
    "        self.X = X\n",
    "        self.transforms = transforms\n",
    "\n",
    "    def __len__(self):\n",
    "        return len(self.X)\n",
    "\n",
    "    def __getitem__(self, idx):\n",
    "        img_data = self.X[idx]\n",
    "\n",
    "        if self.transforms:\n",
    "            img_data = self.transforms(img_data)\n",
    "\n",
    "        return img_data"
   ]
  },
  {
   "cell_type": "markdown",
   "metadata": {
    "heading_collapsed": true
   },
   "source": [
    "# Models"
   ]
  },
  {
   "cell_type": "code",
   "execution_count": 2279,
   "metadata": {
    "hidden": true,
    "hide_input": true
   },
   "outputs": [],
   "source": [
    "class TwoLayerModel(nn.Module):\n",
    "    def __init__(self, n_input, n_hidden1, n_hidden2, n_classes):\n",
    "        super().__init__()\n",
    "        #self.bs = bs\n",
    "        self.input_layer = nn.Linear(n_input, n_hidden1)\n",
    "        self.hidden1 = nn.Linear(n_hidden1, n_hidden2)\n",
    "        self.hidden2 = nn.Linear(n_hidden2, n_classes)\n",
    "        self.relu = nn.ReLU()\n",
    "        self.bn0 = nn.BatchNorm1d(n_input)\n",
    "        self.bn1 = nn.BatchNorm1d(n_hidden1)\n",
    "        self.bn2 = nn.BatchNorm1d(n_hidden2)\n",
    "\n",
    "    def forward(self, x):\n",
    "        x = x.reshape(-1, 128*128*3)\n",
    "        x = self.bn0(x)\n",
    "        x = self.input_layer(x)\n",
    "        x = self.relu(x)\n",
    "        x = self.bn1(x)\n",
    "        x = self.hidden1(x)\n",
    "        x = self.relu(x)\n",
    "        x = self.bn2(x)\n",
    "        x = self.hidden2(x)\n",
    "\n",
    "        return x"
   ]
  },
  {
   "cell_type": "code",
   "execution_count": 2280,
   "metadata": {
    "hidden": true,
    "hide_input": false
   },
   "outputs": [],
   "source": [
    "class OneLayerModel(nn.Module):\n",
    "    def __init__(self, n_input, n_hidden, n_classes): #OneLayerModel(128*128*3, 128, n_classes).to(device)\n",
    "        super().__init__()\n",
    "        self.input_layer = nn.Linear(n_input, n_hidden)\n",
    "        self.hidden = nn.Linear(n_hidden, n_classes)\n",
    "        self.relu = nn.ReLU()\n",
    "        self.bn0 = nn.BatchNorm1d(n_input)\n",
    "        self.bn1 = nn.BatchNorm1d(n_hidden)\n",
    "\n",
    "    def forward(self, x):\n",
    "        x = x.reshape(-1, 128*128*3)\n",
    "        x = self.bn0(x)\n",
    "        x = self.input_layer(x)\n",
    "        x = self.relu(x)\n",
    "        x = self.bn1(x)\n",
    "        x = self.hidden(x)\n",
    "\n",
    "        return x"
   ]
  },
  {
   "cell_type": "code",
   "execution_count": 2281,
   "metadata": {
    "hidden": true,
    "hide_input": false
   },
   "outputs": [],
   "source": [
    "class ConvNetModel(nn.Module):\n",
    "    def __init__(self, n_classes, keep_prob=.5):\n",
    "        super(ConvNetModel, self).__init__()\n",
    "        # Common layers used multiple times\n",
    "        self.relu = nn.ReLU()\n",
    "        self.maxpool = nn.MaxPool2d(kernel_size=2, stride=2)\n",
    "        self.dropout = nn.Dropout(p=1-keep_prob)\n",
    "        \n",
    "        # Unique layers\n",
    "        self.conv1 = nn.Conv2d(in_channels=3, out_channels=256, kernel_size=3, stride=1, padding=1) #(n samples, channels, height, width)\n",
    "        self.conv2 = nn.Conv2d(in_channels=256, out_channels=14, kernel_size=3, stride=1, padding=1)\n",
    "        self.fc3 = nn.Linear(in_features=256*4*14, out_features=n_classes)\n",
    "        \n",
    "    def forward(self, x):\n",
    "        x = x.reshape(-1, 3, 128, 128)\n",
    "        \n",
    "        out = self.conv1(x)\n",
    "        out = self.relu(out)\n",
    "        out = self.maxpool(out)\n",
    "        out = self.dropout(out)\n",
    "        \n",
    "        out = self.conv2(out)\n",
    "        out = self.relu(out)\n",
    "        out = self.maxpool(out)\n",
    "        out = self.dropout(out)\n",
    "        \n",
    "        out = out.reshape(out.size(0), -1)  # Flatten for FC\n",
    "        out = self.fc3(out)\n",
    "        return out    "
   ]
  },
  {
   "cell_type": "code",
   "execution_count": 2282,
   "metadata": {},
   "outputs": [],
   "source": [
    "class ConvNetModel(nn.Module):\n",
    "    def __init__(self, n_classes, keep_prob=.5):\n",
    "        super(ConvNetModel, self).__init__()\n",
    "        \n",
    "        # Common layers used multiple times\n",
    "        self.relu = nn.ReLU()\n",
    "        self.maxpool = nn.MaxPool2d(kernel_size=2, stride=2)\n",
    "        self.dropout = nn.Dropout(p=1-keep_prob)\n",
    "        \n",
    "        # Unique layers\n",
    "        self.conv1 = nn.Conv2d(in_channels=3, out_channels=16, kernel_size=3, stride=1, padding=1) #(n samples, channels, height, width)\n",
    "        self.conv2 = nn.Conv2d(in_channels=16, out_channels=64, kernel_size=3, stride=1, padding=1)\n",
    "        self.conv3 = nn.Conv2d(in_channels=64, out_channels=392, kernel_size=3, stride=1, padding=1)\n",
    "        self.fc1 = nn.Linear(in_features=64*4*392, out_features=14)\n",
    "        \n",
    "    def forward(self, x):\n",
    "        x = x.reshape(-1, 3, 128, 128)\n",
    "        \n",
    "        out = self.conv1(x)\n",
    "        out = self.relu(out)\n",
    "        out = self.maxpool(out)\n",
    "        out = self.dropout(out)\n",
    "        \n",
    "        out = self.conv2(out)\n",
    "        out = self.relu(out)\n",
    "        out = self.maxpool(out)\n",
    "        out = self.dropout(out)\n",
    "        \n",
    "        out = self.conv3(out)\n",
    "        out = self.relu(out)\n",
    "        out = self.maxpool(out)\n",
    "        out = self.dropout(out)\n",
    "        \n",
    "        out = out.reshape(out.size(0), -1)  # Flatten for FC\n",
    "        out = self.fc1(out)\n",
    "        return out    "
   ]
  },
  {
   "cell_type": "markdown",
   "metadata": {
    "heading_collapsed": true
   },
   "source": [
    "# Training and evaluation functions"
   ]
  },
  {
   "cell_type": "code",
   "execution_count": 2283,
   "metadata": {
    "hidden": true,
    "hide_input": false
   },
   "outputs": [],
   "source": [
    "def evaluate(dataloader, model, criterion, device, threshold=0.5):\n",
    "    model.eval()\n",
    "\n",
    "    f1_scores = []\n",
    "    losses = []\n",
    "\n",
    "    with torch.no_grad():\n",
    "        for batch in dataloader:\n",
    "            X, y = batch\n",
    "            X = X.to(device)\n",
    "            y = y.to(device)\n",
    "            y_pred = torch.sigmoid(model(X))\n",
    "\n",
    "            loss = criterion(y_pred, y)\n",
    "            losses.append(loss)\n",
    "\n",
    "            score = f1_score(y.cpu() == 1, y_pred.cpu() > threshold, average='micro')\n",
    "            f1_scores.append(score)\n",
    "\n",
    "    model.train()\n",
    "\n",
    "    return torch.mean(torch.tensor(losses)), torch.mean(torch.tensor(f1_scores))"
   ]
  },
  {
   "cell_type": "code",
   "execution_count": 2284,
   "metadata": {
    "hidden": true,
    "hide_input": false
   },
   "outputs": [],
   "source": [
    "def train(train_dataloader, valid_dataloader, model, optimizer, scheduler, criterion, device, n_epochs=50, verbose=True, threshold=0.5, n_report_fr=10):\n",
    "    model.train()\n",
    "    \n",
    "    train_losses, valid_losses = [], []\n",
    "    train_scores, valid_scores = [], []\n",
    "\n",
    "    fmt = '{:<5} {:12} {:12} {:<9} {:<9}'\n",
    "    print(fmt.format('Epoch', 'Train loss', 'Valid loss', 'Train F1', 'Valid F1'))\n",
    "\n",
    "    for epoch in range(n_epochs):\n",
    "        \n",
    "        for i, batch in enumerate(train_dataloader):\n",
    "            X, y = batch\n",
    "            \n",
    "            X = X.to(device)\n",
    "            y = y.to(device)\n",
    "\n",
    "            optimizer.zero_grad()\n",
    "            y_pred = model(X)\n",
    "            loss = criterion(y_pred, y)\n",
    "            loss.backward()\n",
    "            optimizer.step()\n",
    "            scheduler.step()\n",
    "            \n",
    "            if verbose and i % n_report_fr == 0:\n",
    "                print(f'Epoch: {epoch+1}, iteration: {i+1}, loss: {loss}')\n",
    "            \n",
    "        if verbose:            \n",
    "            print(f'Epoch: {epoch+1}, iteration: {i+1}, loss: {loss}')\n",
    "\n",
    "        train_loss, train_score = evaluate(train_dataloader, model, criterion, device, threshold)\n",
    "        valid_loss, valid_score = evaluate(valid_dataloader, model, criterion, device, threshold)\n",
    "        \n",
    "        train_losses.append(train_loss)\n",
    "        train_scores.append(train_score)\n",
    "        valid_losses.append(valid_loss)\n",
    "        valid_scores.append(valid_score)\n",
    "\n",
    "        fmt = '{:<5} {:03.10f} {:03.10f} {:02.7f} {:02.7f}'\n",
    "        print(fmt.format(epoch+1, train_loss, valid_loss, train_score, valid_score))\n",
    "            \n",
    "    print('Done training!')\n",
    "    \n",
    "    return train_losses, valid_losses, train_scores, valid_scores"
   ]
  },
  {
   "cell_type": "markdown",
   "metadata": {
    "heading_collapsed": true
   },
   "source": [
    "# Visualization functions"
   ]
  },
  {
   "cell_type": "code",
   "execution_count": 2285,
   "metadata": {
    "hidden": true
   },
   "outputs": [],
   "source": [
    "def visualize_true_positives(img_label, model, device, dataloader, n_to_show=10, threshold=0.75):\n",
    "\n",
    "    class_map = get_class_map()\n",
    "    img_class = class_map[img_label]\n",
    "\n",
    "    def predicate(pred_classes, true_classes):\n",
    "        return True if img_class in pred_classes and img_class in true_classes else False\n",
    "\n",
    "    visualize_predictions(model, device, dataloader, n_to_show=n_to_show, threshold=threshold, predicate=predicate)"
   ]
  },
  {
   "cell_type": "code",
   "execution_count": 2286,
   "metadata": {
    "hidden": true
   },
   "outputs": [],
   "source": [
    "def visualize_true_negatives(img_label, model, device, dataloader, n_to_show=10, threshold=0.75):\n",
    "\n",
    "    class_map = get_class_map()\n",
    "    img_class = class_map[img_label]\n",
    "\n",
    "    def predicate(pred_classes, true_classes):\n",
    "        return True if not img_class in pred_classes and not img_class in true_classes else False\n",
    "\n",
    "    visualize_predictions(model, device, dataloader, n_to_show=n_to_show, threshold=threshold, predicate=predicate)"
   ]
  },
  {
   "cell_type": "code",
   "execution_count": 2287,
   "metadata": {
    "hidden": true
   },
   "outputs": [],
   "source": [
    "def visualize_false_positives(img_label, model, device, dataloader, n_to_show=10, threshold=0.75):\n",
    "\n",
    "    class_map = get_class_map()\n",
    "    img_class = class_map[img_label]\n",
    "\n",
    "    def predicate(pred_classes, true_classes):\n",
    "        return True if img_class in pred_classes and not img_class in true_classes else False\n",
    "\n",
    "    visualize_predictions(model, device, dataloader, n_to_show=n_to_show, threshold=threshold, predicate=predicate)"
   ]
  },
  {
   "cell_type": "code",
   "execution_count": 2288,
   "metadata": {
    "hidden": true
   },
   "outputs": [],
   "source": [
    "def visualize_false_negatives(img_label, model, device, dataloader, n_to_show=10, threshold=0.75):\n",
    "\n",
    "    class_map = get_class_map()\n",
    "    img_class = class_map[img_label]\n",
    "\n",
    "    def predicate(pred_classes, true_classes):\n",
    "        return True if not img_class in pred_classes and img_class in true_classes else False\n",
    "\n",
    "    visualize_predictions(model, device, dataloader, n_to_show=n_to_show, threshold=threshold, predicate=predicate)"
   ]
  },
  {
   "cell_type": "code",
   "execution_count": 2289,
   "metadata": {
    "hidden": true,
    "hide_input": false
   },
   "outputs": [],
   "source": [
    "def visualize_predictions(model, device, dataloader, mean=MEAN, std=STD, n_to_show=10, threshold=0.5, predicate=None):\n",
    "\n",
    "    model.eval()\n",
    "\n",
    "    if predicate == None:\n",
    "        predicate = lambda p1, p2: True\n",
    "\n",
    "    class_to_label = { v: k for k, v in get_class_map().items() }\n",
    "    \n",
    "    n_shown = 0\n",
    "    for i, batch in enumerate(dataloader):\n",
    "        X, y = batch\n",
    "        X = X.to(device)\n",
    "\n",
    "        y_pred = torch.sigmoid(model(X).cpu()) > threshold\n",
    "        y = y == 1\n",
    "        \n",
    "        for i in range(len(y)):\n",
    "            pred_classes = np.where(y_pred[i] == 1)[0]\n",
    "            true_classes = np.where(y[i] == 1)[0]\n",
    "            \n",
    "            if not predicate(pred_classes, true_classes):\n",
    "                continue\n",
    "\n",
    "            show_image_with_predictions(X[i], true_classes, pred_classes)\n",
    "\n",
    "            n_shown += 1\n",
    "            \n",
    "            if n_shown >= n_to_show:\n",
    "                return            "
   ]
  },
  {
   "cell_type": "code",
   "execution_count": 2290,
   "metadata": {
    "hidden": true
   },
   "outputs": [],
   "source": [
    "def show_image_with_predictions(X, true_classes, pred_classes, mean=MEAN, std=STD):\n",
    "    \n",
    "    class_map = get_class_map()\n",
    "    class_to_label = { v: k for k, v in class_map.items() }\n",
    "\n",
    "    true_classes_str = ', '.join([class_to_label[i] for i in true_classes])\n",
    "    pred_classes_str = ', '.join([class_to_label[i] for i in pred_classes])\n",
    "\n",
    "    # https://discuss.pytorch.org/t/simple-way-to-inverse-transform-normalization/4821/5\n",
    "    inv_transform = transforms.Normalize(mean = -1 * np.multiply(mean, std), std=np.divide(1, std))\n",
    "\n",
    "    img = inv_transform(X.cpu()) # inverse transforms\n",
    "    img = img.permute(2, 1, 0)   # BGR -> RGB\n",
    "    img = np.rot90(img, 3)\n",
    "\n",
    "    plt.title(f'True: {true_classes_str}, Predictions: {pred_classes_str}')\n",
    "    plt.imshow(img)\n",
    "    plt.pause(0.001)"
   ]
  },
  {
   "cell_type": "code",
   "execution_count": 2291,
   "metadata": {
    "hidden": true
   },
   "outputs": [],
   "source": [
    "def visualize_images_from_disk(img_label, n_to_show=5, random_images=True):\n",
    "\n",
    "    # open the annotations file for this label\n",
    "    with open(f'{LABEL_PATH}/{img_label}.txt', 'r') as fh:\n",
    "\n",
    "        # read in image ids\n",
    "        img_ids = fh.read().splitlines()\n",
    "\n",
    "        # shuffle, if we want to display random images\n",
    "        if random_images:\n",
    "            random.shuffle(img_ids)\n",
    "\n",
    "        # display the images\n",
    "        n_shown = 0\n",
    "        for img_id in img_ids:\n",
    "            img_path = f'{IMAGE_PATH}/im{img_id}.jpg'\n",
    "            img = Image.open(img_path)\n",
    " \n",
    "            plt.title(f'True: {img_label}, img_id: {img_id}')\n",
    "            plt.imshow(img)\n",
    "            plt.pause(0.001)\n",
    "\n",
    "            if n_shown >= n_to_show:\n",
    "                return\n",
    "\n",
    "            n_shown += 1"
   ]
  },
  {
   "cell_type": "code",
   "execution_count": 2292,
   "metadata": {
    "hidden": true
   },
   "outputs": [],
   "source": [
    "def visualize_images_from_dataloader(img_label, dataloader, mean=MEAN, std=STD, n_to_show=5):\n",
    "    class_map = get_class_map()\n",
    "    img_class = class_map[img_label]\n",
    "\n",
    "    n_shown = 0\n",
    "    for batch in dataloader:\n",
    "        X, y = batch\n",
    "\n",
    "        for i in range(len(y)):\n",
    "            true_classes = y[i]\n",
    "\n",
    "            # if image does not belong to wanted class, skip\n",
    "            if not true_classes[img_class]:\n",
    "                continue\n",
    "\n",
    "            # display the image\n",
    "            inv_transform = transforms.Normalize(mean = -1 * np.multiply(mean, std), std=np.divide(1, std))\n",
    "\n",
    "            img = inv_transform(X[i]) # inverse transforms\n",
    "            img = img.permute(2, 1, 0) # BGR -> RGB\n",
    "            img = np.rot90(img, 3)\n",
    "\n",
    "            plt.title(f'Image label: {img_label}, Image class: {img_class}')\n",
    "            plt.imshow(img)\n",
    "            plt.pause(0.001)\n",
    "\n",
    "        if n_shown >= n_to_show:\n",
    "            return\n",
    "\n",
    "        n_shown += 1"
   ]
  },
  {
   "cell_type": "code",
   "execution_count": 2293,
   "metadata": {
    "hidden": true
   },
   "outputs": [],
   "source": [
    "def visualize_images_from_sets(img_label, X, y, n_to_show=5):\n",
    "    class_map = get_class_map()\n",
    "    img_class = class_map[img_label]\n",
    "\n",
    "    n_shown = 0\n",
    "    for i in range(len(y)):\n",
    "\n",
    "        # if image does not have this label, skip it\n",
    "        if not y[i][img_class]:\n",
    "            continue\n",
    "\n",
    "        # display the image\n",
    "        img = X[i]\n",
    "        plt.title(f'Image label: {img_label}, Image class: {img_class}')\n",
    "        plt.imshow(img)\n",
    "        plt.pause(0.001)\n",
    "\n",
    "        if n_shown >= n_to_show:\n",
    "            return\n",
    "\n",
    "        n_shown += 1"
   ]
  },
  {
   "cell_type": "code",
   "execution_count": 2294,
   "metadata": {
    "hidden": true
   },
   "outputs": [],
   "source": [
    "def predict(model, device, dataloader, threshold=0.70):\n",
    "    y_pred = torch.tensor([], device=device, dtype=torch.uint8)\n",
    "    y_true = torch.tensor([], device=device, dtype=torch.uint8)\n",
    "    \n",
    "    model.eval()\n",
    "\n",
    "    with torch.no_grad():\n",
    "        for batch in dataloader:\n",
    "            X, y = batch\n",
    "\n",
    "            X = X.to(device)\n",
    "            y = y.to(device).type(torch.uint8)\n",
    "\n",
    "            y_pred_tmp = torch.sigmoid(model(X)) > threshold\n",
    "            y_pred_tmp = y_pred_tmp.type(torch.uint8)\n",
    "\n",
    "            y_pred = torch.cat((y_pred, y_pred_tmp), 0)\n",
    "            y_true = torch.cat((y_true, y), 0)\n",
    "\n",
    "    return y_pred, y_true\n",
    "    \n",
    "def predict_testdata(model, device, dataloader, threshold=0.70):\n",
    "    y_pred = torch.tensor([], device=device, dtype=torch.uint8)\n",
    "    \n",
    "    model.eval()\n",
    "\n",
    "    with torch.no_grad():\n",
    "        for X in dataloader:\n",
    "            X = X.to(device)\n",
    "\n",
    "            y_pred_tmp = torch.sigmoid(model(X)) > threshold\n",
    "            y_pred_tmp = y_pred_tmp.type(torch.uint8)\n",
    "\n",
    "            y_pred = torch.cat((y_pred, y_pred_tmp), 0)\n",
    "\n",
    "    return y_pred\n",
    "\n",
    "def get_prediction_metrics(y_true, y_pred):\n",
    "    # Confusion matrix\n",
    "    cm = confusion_matrix(y_true, y_pred)\n",
    "    (tn, fp, fn, tp) = tuple(cm.flatten())\n",
    "    \n",
    "    # Precision, recall, f1-score, support\n",
    "    prec, rec, support = tp/(tp+fp), tp/(tp+fn), tp+fn\n",
    "    f1 = 2*prec*rec/(prec+rec)\n",
    "    score = dict([(k, v[1]) for k, v in zip(['precision', 'recall', 'f1-score', 'support'], \n",
    "         precision_recall_fscore_support(y_true, y_pred, average=None))])\n",
    "    \n",
    "    return cm, score"
   ]
  },
  {
   "cell_type": "code",
   "execution_count": 2295,
   "metadata": {
    "hidden": true,
    "hide_input": false
   },
   "outputs": [],
   "source": [
    "def visualize_confusion_matrix(y_true, y_pred, labels, file_path, no_label_cn=None, no_label_score=None):\n",
    "\n",
    "    plt.ioff()\n",
    "    \n",
    "    # Get confusion matrices\n",
    "    cn_tensor = skm.multilabel_confusion_matrix(y_true, y_pred)\n",
    "    \n",
    "    # Get precision, recall, f1-score\n",
    "    scores = skm.classification_report(y_true, y_pred, output_dict=True)\n",
    "    \n",
    "    # Add non-label scores\n",
    "    if no_label_cn is not None and no_label_score is not None:\n",
    "        cn_tensor = np.concatenate((cn_tensor, no_label_cn[None]), axis=0)\n",
    "        scores['14'] = no_label_score\n",
    "\n",
    "    fig, ax = plt.subplots(nrows=6, ncols=3, sharey=True, figsize=(20, 24), \n",
    "                           gridspec_kw={'hspace': 0.3, 'wspace': 0.0})\n",
    "    gn = ['True Neg','False Pos','False Neg','True Pos']\n",
    "    n = cn_tensor[0].sum()\n",
    "\n",
    "    # Loop all labels\n",
    "    for i, cn_matrix in enumerate(cn_tensor):\n",
    "\n",
    "        j, k = int(i/3), i%3\n",
    "        \n",
    "        # Annotations\n",
    "        annot = np.asarray(\n",
    "            ['{}\\n{:0.0f}\\n{:.2%}'.format(gn[i], x, x/n) for i, x in enumerate(cn_matrix.flatten())]\n",
    "        ).reshape(2,2)\n",
    "        \n",
    "        # Precision, recall, f1-score\n",
    "        title = '{}\\nprec.={:.3}, rec.={:.3}, f1={:.3}'.format(\n",
    "            labels[i], scores[str(i)]['precision'], scores[str(i)]['recall'], scores[str(i)]['f1-score'])\n",
    "        ax[j, k].set_title(title)\n",
    "        ax[j, k].set_ylim([0,2])\n",
    "        \n",
    "        # Plot heatmap\n",
    "        sn.heatmap(cn_matrix, annot=annot, fmt='', cmap='Blues', ax=ax[j, k])\n",
    "        \n",
    "    # Dirty hack: to fix matplotlib and sns incompatibility (positioning annotations)\n",
    "    sn.heatmap(np.array([[0,0],[0,0]]), annot=np.array([['',''],['','']]), fmt='', cmap='Blues', ax=ax[5, 0])\n",
    "        \n",
    "    plt.savefig(file_path, bbox_inches='tight')\n",
    "    plt.close()\n",
    "    \n",
    "    # Fix image size after hack\n",
    "    img = Image.open(file_path).crop((0, 0, 1200, 1150)).save(file_path, 'png')"
   ]
  },
  {
   "cell_type": "code",
   "execution_count": 2296,
   "metadata": {},
   "outputs": [],
   "source": [
    "def plot_learning_curves(tr_losses, val_losses, tr_scores, val_scores, file_path, title):\n",
    "    fig, ax = plt.subplots(nrows=1, ncols=2, figsize=(16, 4))\n",
    "\n",
    "    ax[0].plot(range(n_epochs), val_losses, label='Validation')\n",
    "    ax[0].plot(range(n_epochs), tr_losses, label='Train')\n",
    "    ax[0].set_title('Loss', fontsize=14)\n",
    "\n",
    "    ax[1].plot(range(n_epochs), val_scores, label='Validation')\n",
    "    ax[1].plot(range(n_epochs), tr_scores, label='Train')\n",
    "    ax[1].set_title('F1-score', fontsize=14)\n",
    "\n",
    "    plt.legend(loc='center', ncol=2, bbox_to_anchor=(-.15, 1.15), fontsize=14)\n",
    "    plt.suptitle(title, fontsize=16, y=1.1)\n",
    "    \n",
    "    # Save learning curve plot\n",
    "    plt.savefig(file_path)\n",
    "    plt.show()"
   ]
  },
  {
   "cell_type": "markdown",
   "metadata": {},
   "source": [
    "# Do the magic!"
   ]
  },
  {
   "cell_type": "code",
   "execution_count": 2297,
   "metadata": {
    "hide_input": false
   },
   "outputs": [
    {
     "name": "stdout",
     "output_type": "stream",
     "text": [
      "Using GPU!\n"
     ]
    }
   ],
   "source": [
    "if torch.cuda.is_available():\n",
    "    print('Using GPU!')\n",
    "    device = torch.device('cuda')\n",
    "else:\n",
    "    print('Using CPU')\n",
    "    device = torch.device('cpu')\n",
    "\n",
    "lr = 0.01\n",
    "n_epochs = 25\n",
    "bs = 64\n",
    "n_classes = len(get_class_map().keys())\n",
    "threshold = 0.75\n",
    "#model_name = 'cnn'\n",
    "#model_name = 'ffn1'\n",
    "#model_name = 'ffn2'\n",
    "#model_name = 'vgg16'\n",
    "#model_name = 'vgg16_bn'\n",
    "#model_name = 'resnet18'\n",
    "#model_name = 'resnet34'\n",
    "#model_name = 'resnet50'\n",
    "#model_name = 'resnet50_noaug'\n",
    "model_name = 'resnet50_noaug_dropout'\n",
    "#model_name = 'resnet50_plain'\n",
    "#model_name = 'resnet101'\n",
    "#model_name = 'resnet152'"
   ]
  },
  {
   "cell_type": "markdown",
   "metadata": {},
   "source": [
    "## Create and save / load dataloaders from disk"
   ]
  },
  {
   "cell_type": "code",
   "execution_count": 2298,
   "metadata": {},
   "outputs": [],
   "source": [
    "class RandomIndividualApply():\n",
    "    \"\"\"Apply randomly a list of transformations with a given probability\n",
    "\n",
    "    Args:\n",
    "        transforms (list or tuple): list of transformations\n",
    "        p (float): probability\n",
    "    \"\"\"\n",
    "\n",
    "    def __init__(self, transforms, p=0.5):\n",
    "        self.p = p\n",
    "        self.transforms = transforms\n",
    "\n",
    "    def __call__(self, img):\n",
    "        for t in self.transforms:\n",
    "            if self.p < np.random.random():\n",
    "                continue\n",
    "            img = t(img)\n",
    "        return img\n",
    "\n",
    "    def __repr__(self):\n",
    "        format_string = self.__class__.__name__ + '('\n",
    "        format_string += '\\n    p={}'.format(self.p)\n",
    "        for t in self.transforms:\n",
    "            format_string += '\\n'\n",
    "            format_string += '    {0}'.format(t)\n",
    "        format_string += '\\n)'\n",
    "        return format_string"
   ]
  },
  {
   "cell_type": "code",
   "execution_count": 2299,
   "metadata": {
    "hide_input": false
   },
   "outputs": [
    {
     "name": "stdout",
     "output_type": "stream",
     "text": [
      "Loading saved torch dump from disk.\n",
      " - Done.\n"
     ]
    }
   ],
   "source": [
    "max_images_per_class = int(1e9)\n",
    "#max_images_per_class = 200\n",
    "\n",
    "transformations = {\n",
    "    'train': transforms.Compose([\n",
    "        RandomIndividualApply([\n",
    "            transforms.RandomHorizontalFlip(p=1),\n",
    "            transforms.RandomRotation((-10, 10)),\n",
    "            transforms.ColorJitter(brightness=0.3, contrast=0.3, saturation=0.3, hue=0.3),\n",
    "            transforms.RandomGrayscale(p=0.1),\n",
    "            transforms.RandomPerspective(),\n",
    "        ], p=0.5),\n",
    "        transforms.ToTensor(),                \n",
    "        transforms.Normalize(mean=MEAN, std=STD)            \n",
    "    ]),\n",
    "    'valid': transforms.Compose([\n",
    "        transforms.ToTensor(),\n",
    "        transforms.Normalize(mean=MEAN, std=STD)\n",
    "    ]),\n",
    "    'test': transforms.Compose([\n",
    "        transforms.ToTensor(),\n",
    "        transforms.Normalize(mean=MEAN, std=STD)\n",
    "    ]),\n",
    "}\n",
    "\n",
    "if model_name == 'resnet50_noaug' or model_name == 'resnet50_noaug_dropout':\n",
    "    transformations['train'] = transformations['valid']\n",
    "\n",
    "if not os.path.isfile(f'../data/X_train_n{max_images_per_class}.dat'):\n",
    "    print('Loading all data from disk.')\n",
    "    X_train, X_valid, X_test, y_train, y_valid, y_test = get_data(max_images_per_class=max_images_per_class)\n",
    "    torch.save(X_train, f'../data/X_train_n{max_images_per_class}.dat')\n",
    "    torch.save(X_valid, f'../data/X_valid_n{max_images_per_class}.dat')\n",
    "    torch.save(X_test, f'../data/X_test_n{max_images_per_class}.dat')\n",
    "    torch.save(y_train, f'../data/y_train_n{max_images_per_class}.dat')\n",
    "    torch.save(y_valid, f'../data/y_valid_n{max_images_per_class}.dat')\n",
    "    torch.save(y_test, f'../data/y_test_n{max_images_per_class}.dat')\n",
    "    print(' - Done.')\n",
    "else:\n",
    "    print('Loading saved torch dump from disk.')\n",
    "    X_train = torch.load(f'../data/X_train_n{max_images_per_class}.dat')\n",
    "    X_valid = torch.load(f'../data/X_valid_n{max_images_per_class}.dat')\n",
    "    X_test = torch.load(f'../data/X_test_n{max_images_per_class}.dat')\n",
    "    y_train = torch.load(f'../data/y_train_n{max_images_per_class}.dat')\n",
    "    y_valid = torch.load(f'../data/y_valid_n{max_images_per_class}.dat')\n",
    "    y_test = torch.load(f'../data/y_test_n{max_images_per_class}.dat')\n",
    "    print(' - Done.')\n",
    "\n",
    "train_dataloader = DataLoader(\n",
    "    TransformingDataset(X_train, y_train, transforms=transformations['train']),\n",
    "    shuffle=True,\n",
    "    batch_size=bs)\n",
    "\n",
    "valid_dataloader = DataLoader(\n",
    "    TransformingDataset(X_valid, y_valid, transforms=transformations['valid']),\n",
    "    shuffle=True,\n",
    "    batch_size=bs)\n",
    "\n",
    "test_dataloader = DataLoader(\n",
    "    TransformingDataset(X_test, y_test, transforms=transformations['test']),\n",
    "    shuffle=True,\n",
    "    batch_size=bs)"
   ]
  },
  {
   "cell_type": "markdown",
   "metadata": {},
   "source": [
    "## Basic models"
   ]
  },
  {
   "cell_type": "code",
   "execution_count": 2300,
   "metadata": {},
   "outputs": [],
   "source": [
    "if model_name == 'ffn1':\n",
    "    model = OneLayerModel(128*128*3, 128, n_classes).to(device)"
   ]
  },
  {
   "cell_type": "code",
   "execution_count": 2301,
   "metadata": {},
   "outputs": [],
   "source": [
    "if model_name == 'ffn2':\n",
    "    model = TwoLayerModel(128*128*3, 512, 256, n_classes).to(device)"
   ]
  },
  {
   "cell_type": "code",
   "execution_count": 2302,
   "metadata": {},
   "outputs": [],
   "source": [
    "if model_name == 'cnn':\n",
    "    model = ConvNetModel(n_classes=n_classes, keep_prob=.5).to(device)"
   ]
  },
  {
   "cell_type": "markdown",
   "metadata": {},
   "source": [
    "## Pretrained models"
   ]
  },
  {
   "cell_type": "markdown",
   "metadata": {},
   "source": [
    "NB: The mean and std in transformations most probably need to be the same as for VGG and RESNET. Not 100% sure about this. Something to investigate!\n",
    "\n",
    "From: https://discuss.pytorch.org/t/about-normalization-using-pre-trained-vgg16-networks/23560 \n",
    "*Usually if your use case stays in the same data domain, the mean and std won’t be that different and you can try to use the ImageNet statistics.\n",
    "I would recommend to use your own data statistics if you are dealing with another domain, e.g. medical images.*\n",
    "\n",
    "\n",
    "More models here: https://pytorch.org/docs/stable/torchvision/models.html\n",
    "\n",
    "If the models do not start to converge, try lowering the learning rate!"
   ]
  },
  {
   "cell_type": "markdown",
   "metadata": {},
   "source": [
    "_VGG16_\n",
    "\n",
    "Currently getting validation f1 scores around 0.67. \n",
    "\n",
    "Now around 0.71 with one cycle policy.\n",
    "\n",
    "Surprisingly after quick testing the vgg16_bn (with BatchNorm layers) did not do as well? Maybe more to investigate here."
   ]
  },
  {
   "cell_type": "code",
   "execution_count": 2303,
   "metadata": {},
   "outputs": [],
   "source": [
    "if model_name == 'vgg16' or model_name == 'vgg16_bn':\n",
    "    \n",
    "    if model_name == 'vgg16':\n",
    "        model = vgg16(pretrained=True).to(device)\n",
    "    else:\n",
    "        model = vgg16_bn(pretrained=True).to(device)\n",
    "\n",
    "    for param in model.parameters():\n",
    "        param.requires_grad = False\n",
    "\n",
    "    model.classifier = nn.Sequential(\n",
    "        nn.Linear(25088, 4096),\n",
    "        nn.ReLU(),\n",
    "        #nn.Dropout(p=.5),\n",
    "        nn.Linear(4096, 2048),\n",
    "        nn.ReLU(),\n",
    "        #nn.Dropout(p=.2),\n",
    "        nn.Linear(2048, 14),\n",
    "    ).to(device)\n",
    "    "
   ]
  },
  {
   "cell_type": "markdown",
   "metadata": {},
   "source": [
    "_RESNET_\n"
   ]
  },
  {
   "cell_type": "code",
   "execution_count": 2304,
   "metadata": {},
   "outputs": [],
   "source": [
    "if model_name == 'resnet18':\n",
    "    model = resnet18(pretrained=True).to(device)\n",
    "\n",
    "    for layer in model.children():\n",
    "        layer.requires_grad = False\n",
    "\n",
    "    model.fc = nn.Linear(512, 14).to(device)"
   ]
  },
  {
   "cell_type": "code",
   "execution_count": 2305,
   "metadata": {},
   "outputs": [],
   "source": [
    "if model_name == 'resnet34':\n",
    "    model = resnet34(pretrained=True).to(device)\n",
    "\n",
    "    for layer in model.children():\n",
    "        layer.requires_grad = False\n",
    "\n",
    "    model.fc = nn.Linear(512, 14).to(device)"
   ]
  },
  {
   "cell_type": "code",
   "execution_count": 2306,
   "metadata": {},
   "outputs": [
    {
     "name": "stdout",
     "output_type": "stream",
     "text": [
      "Using dropout\n"
     ]
    }
   ],
   "source": [
    "if model_name == 'resnet50' or model_name == 'resnet50_noaug' or model_name == 'resnet50_noaug_dropout':\n",
    "    model = resnet50(pretrained=True).to(device)\n",
    "    \n",
    "    if model_name == 'resnet50_noaug_dropout':\n",
    "        print('Using dropout')\n",
    "        model.fc.register_forward_hook(lambda m, inp, out: F.dropout(out, p=0.5, training=m.training))\n",
    "\n",
    "    for layer in model.children():\n",
    "        layer.requires_grad = False\n",
    "\n",
    "    model.fc = nn.Linear(2048, 14).to(device)"
   ]
  },
  {
   "cell_type": "code",
   "execution_count": 2307,
   "metadata": {},
   "outputs": [],
   "source": [
    "if model_name == 'resnet101':\n",
    "    model = resnet101(pretrained=True).to(device)\n",
    "\n",
    "    for layer in model.children():\n",
    "        layer.requires_grad = False\n",
    "\n",
    "    model.fc = nn.Linear(2048, 14).to(device)"
   ]
  },
  {
   "cell_type": "code",
   "execution_count": 2308,
   "metadata": {},
   "outputs": [],
   "source": [
    "if model_name == 'resnet152':\n",
    "    model = resnet152(pretrained=True).to(device)\n",
    "\n",
    "    for layer in model.children():\n",
    "        layer.requires_grad = False\n",
    "\n",
    "    model.fc = nn.Linear(2048, 14).to(device)"
   ]
  },
  {
   "cell_type": "markdown",
   "metadata": {},
   "source": [
    "## Train a model or load an existing model from disk"
   ]
  },
  {
   "cell_type": "code",
   "execution_count": 2309,
   "metadata": {},
   "outputs": [],
   "source": [
    "# loss function\n",
    "pos_weight = torch.from_numpy(label_pos_weights_for_loss).to(device)\n",
    "criterion = nn.BCEWithLogitsLoss(pos_weight=pos_weight)\n",
    "\n",
    "# learning rate and momentum will be overriden by the scheduler\n",
    "optimizer = torch.optim.SGD(model.parameters(), lr=0.01, momentum=0.9, nesterov=True)\n",
    "\n",
    "# scheduler\n",
    "scheduler = torch.optim.lr_scheduler.OneCycleLR(\n",
    "    optimizer,\n",
    "    max_lr=0.01,\n",
    "    base_momentum=0.5,\n",
    "    max_momentum=0.95,\n",
    "    steps_per_epoch=len(train_dataloader),\n",
    "    epochs=n_epochs,\n",
    ")"
   ]
  },
  {
   "cell_type": "code",
   "execution_count": 2316,
   "metadata": {},
   "outputs": [
    {
     "name": "stdout",
     "output_type": "stream",
     "text": [
      "Epoch Train loss   Valid loss   Train F1  Valid F1 \n",
      "1     1.0881490929 1.1048901196 0.6135094 0.5949420\n",
      "2     1.0262076327 1.0592714163 0.7102419 0.6688853\n",
      "3     1.0012112884 1.0426386224 0.7560402 0.6893011\n",
      "4     0.9845743361 1.0350796659 0.8078935 0.7090963\n",
      "5     0.9714433703 1.0431887102 0.8563618 0.7312829\n",
      "6     0.9636249560 1.0441155874 0.8903180 0.7398630\n",
      "7     0.9572799172 1.0443486961 0.9168624 0.7417624\n",
      "8     0.9527046526 1.0513164559 0.9346004 0.7414251\n",
      "9     0.9487634178 1.0545188204 0.9585394 0.7425364\n",
      "10    0.9465494793 1.0541145292 0.9680609 0.7474094\n",
      "11    0.9437289809 1.0547511514 0.9754636 0.7430071\n",
      "12    0.9419758049 1.0551977438 0.9799384 0.7370297\n",
      "13    0.9410989267 1.0564414950 0.9837415 0.7393411\n",
      "14    0.9402686741 1.0589676380 0.9863337 0.7402042\n",
      "15    0.9388740252 1.0593943782 0.9902447 0.7445804\n",
      "16    0.9385266839 1.0610028544 0.9913496 0.7431671\n",
      "17    0.9378212549 1.0607657932 0.9906473 0.7377075\n",
      "18    0.9373529389 1.0614484176 0.9947011 0.7446712\n",
      "19    0.9374605177 1.0587332315 0.9937050 0.7454283\n",
      "20    0.9374836519 1.0596507505 0.9955548 0.7452167\n",
      "21    0.9365557069 1.0597010803 0.9962102 0.7426034\n",
      "22    0.9366312755 1.0597845458 0.9968221 0.7438507\n",
      "23    0.9366643932 1.0614915866 0.9971165 0.7408636\n",
      "24    0.9362938023 1.0628474715 0.9974659 0.7422899\n",
      "25    0.9361846246 1.0661897824 0.9975064 0.7421647\n",
      "Done training!\n",
      "CPU times: user 13min 8s, sys: 36.1 s, total: 13min 44s\n",
      "Wall time: 13min 51s\n"
     ]
    }
   ],
   "source": [
    "%time tr_losses, val_losses, tr_scores, val_scores = \\\n",
    "    train(train_dataloader, valid_dataloader,\\\n",
    "          model, optimizer, scheduler, criterion, device,\\\n",
    "          n_epochs=n_epochs, verbose=False, threshold=threshold)"
   ]
  },
  {
   "cell_type": "code",
   "execution_count": 2317,
   "metadata": {},
   "outputs": [
    {
     "name": "stdout",
     "output_type": "stream",
     "text": [
      "Threshold 0.75: mean loss 0.742, mean F1-score 0.742\n"
     ]
    }
   ],
   "source": [
    "avg_loss, avg_f1 = evaluate(valid_dataloader, model, criterion, device, threshold=threshold)\n",
    "print(f'Threshold {threshold}: mean loss {avg_f1:.3}, mean F1-score {avg_f1:.3}')"
   ]
  },
  {
   "cell_type": "code",
   "execution_count": 2318,
   "metadata": {},
   "outputs": [
    {
     "name": "stdout",
     "output_type": "stream",
     "text": [
      "Saving model to ../data/resnet50_noaug_dropout-epochs25-bs64-valid-F1-0.742.pth\n"
     ]
    }
   ],
   "source": [
    "# Save a model on disk to continue training later\n",
    "if True:\n",
    "    model_whole_save_path = f'../data/{model_name}-epochs{n_epochs}-bs{bs}-valid-F1-{avg_f1:.3}.pth'\n",
    "    print(f'Saving model to {model_whole_save_path}')\n",
    "    torch.save(model, model_whole_save_path)"
   ]
  },
  {
   "cell_type": "code",
   "execution_count": 2319,
   "metadata": {},
   "outputs": [
    {
     "data": {
      "image/png": "[encoded data removed]",
      "text/plain": [
       "<Figure size 1152x288 with 2 Axes>"
      ]
     },
     "metadata": {
      "needs_background": "light"
     },
     "output_type": "display_data"
    }
   ],
   "source": [
    "# Learning curve\n",
    "if True:\n",
    "    title = f'Learning curves for model `{model_name}`, batch size {bs}, epochs {n_epochs}'\n",
    "    file_path = f'../results/{model_name}-epochs{n_epochs}-bs{bs}-valid-F1-{avg_f1:.3}_learningcurve.png'\n",
    "    plot_learning_curves(tr_losses, val_losses, tr_scores, val_scores, file_path, title)"
   ]
  },
  {
   "cell_type": "code",
   "execution_count": 2320,
   "metadata": {},
   "outputs": [],
   "source": [
    "# This is for finding the optimal threshold.\n",
    "if False:\n",
    "    f1_scores = []\n",
    "    for threshold in np.arange(0.05, 1, 0.05):\n",
    "        _, f1 = evaluate(valid_dataloader, model, criterion, device, threshold=threshold)\n",
    "        f1_scores.append(f1)\n",
    "        print(f'threshold: {threshold}, f1 score: {f1}')\n",
    "\n",
    "    plt.plot(np.arange(0.05, 1, 0.05), f1_scores)"
   ]
  },
  {
   "cell_type": "markdown",
   "metadata": {},
   "source": [
    "# Visualization and evaluation"
   ]
  },
  {
   "cell_type": "markdown",
   "metadata": {},
   "source": [
    "## Image loading debugging"
   ]
  },
  {
   "cell_type": "code",
   "execution_count": 2321,
   "metadata": {},
   "outputs": [],
   "source": [
    "debug_images = False"
   ]
  },
  {
   "cell_type": "markdown",
   "metadata": {},
   "source": [
    "### Show images directly from the given data"
   ]
  },
  {
   "cell_type": "code",
   "execution_count": 2322,
   "metadata": {},
   "outputs": [],
   "source": [
    "if debug_images:\n",
    "    visualize_images_from_disk('baby', n_to_show=5)"
   ]
  },
  {
   "cell_type": "markdown",
   "metadata": {},
   "source": [
    "### Show images from the X_train/y_train, X_valid/y_valid, or X_test/y_test"
   ]
  },
  {
   "cell_type": "code",
   "execution_count": 2323,
   "metadata": {},
   "outputs": [],
   "source": [
    "if debug_images:\n",
    "    visualize_images_from_sets('baby', X_train, y_train, n_to_show=5)"
   ]
  },
  {
   "cell_type": "markdown",
   "metadata": {},
   "source": [
    "### Show images from the dataloader"
   ]
  },
  {
   "cell_type": "code",
   "execution_count": 2324,
   "metadata": {},
   "outputs": [],
   "source": [
    "if debug_images:\n",
    "    visualize_images_from_dataloader('baby', train_dataloader, n_to_show=5)"
   ]
  },
  {
   "cell_type": "markdown",
   "metadata": {},
   "source": [
    "## Visualize predictions"
   ]
  },
  {
   "cell_type": "markdown",
   "metadata": {},
   "source": [
    "### Show some images with predictions"
   ]
  },
  {
   "cell_type": "code",
   "execution_count": 2325,
   "metadata": {},
   "outputs": [],
   "source": [
    "if False:\n",
    "    visualize_predictions(model, device, test_dataloader, n_to_show=5, threshold=0.7)"
   ]
  },
  {
   "cell_type": "markdown",
   "metadata": {},
   "source": [
    "#### TP/FP/TN/FN"
   ]
  },
  {
   "cell_type": "code",
   "execution_count": 2326,
   "metadata": {},
   "outputs": [],
   "source": [
    "threshold = 0.65\n",
    "visualize_tpfptnfn = False\n",
    "img_label = 'baby'"
   ]
  },
  {
   "cell_type": "code",
   "execution_count": 2327,
   "metadata": {},
   "outputs": [],
   "source": [
    "if visualize_tpfptnfn:\n",
    "    visualize_false_positives(img_label, model, device, valid_dataloader, threshold=threshold, n_to_show=5)"
   ]
  },
  {
   "cell_type": "code",
   "execution_count": 2328,
   "metadata": {},
   "outputs": [],
   "source": [
    "if visualize_tpfptnfn:\n",
    "    visualize_false_negatives(img_label, model, device, valid_dataloader, threshold=threshold, n_to_show=5)"
   ]
  },
  {
   "cell_type": "code",
   "execution_count": 2329,
   "metadata": {},
   "outputs": [],
   "source": [
    "if visualize_tpfptnfn:\n",
    "    visualize_true_positives(img_label, model, device, valid_dataloader, threshold=threshold, n_to_show=5)"
   ]
  },
  {
   "cell_type": "code",
   "execution_count": 2330,
   "metadata": {},
   "outputs": [],
   "source": [
    "if visualize_tpfptnfn:\n",
    "    visualize_true_negatives(img_label, model, device, valid_dataloader, threshold=threshold, n_to_show=5)"
   ]
  },
  {
   "cell_type": "markdown",
   "metadata": {},
   "source": [
    "# Predict and evaluate using our own test data\n",
    "\n",
    "## Load our best model"
   ]
  },
  {
   "cell_type": "code",
   "execution_count": 2367,
   "metadata": {},
   "outputs": [],
   "source": [
    "model = torch.load('../data/resnet50-epochs25-bs64-valid-F1-0.74.pth')\n",
    "model_name = 'resnet50'"
   ]
  },
  {
   "cell_type": "code",
   "execution_count": 2375,
   "metadata": {},
   "outputs": [],
   "source": [
    "if True:\n",
    "    model_name = 'resnet152_plain'\n",
    "    model = resnet152(pretrained=True).to(device)\n",
    "\n",
    "    for layer in model.children():\n",
    "        layer.requires_grad = False\n",
    "\n",
    "    model.fc = nn.Linear(2048, 14).to(device)\n",
    "    model.eval()"
   ]
  },
  {
   "cell_type": "markdown",
   "metadata": {},
   "source": [
    "## Predict using our own test data using ```test_dataloader``` (already loaded)"
   ]
  },
  {
   "cell_type": "code",
   "execution_count": 2376,
   "metadata": {
    "scrolled": true
   },
   "outputs": [
    {
     "name": "stdout",
     "output_type": "stream",
     "text": [
      "resnet152_plain\n",
      "Saved results in ../results/resnet152_plain_pred.txt, ../results/resnet152_plain_true.txt\n"
     ]
    }
   ],
   "source": [
    "print(model_name)\n",
    "\n",
    "# Predict \n",
    "y_true, y_pred = predict(model, device, test_dataloader, threshold=threshold)\n",
    "y_true, y_pred = y_true.cpu().numpy(), y_pred.cpu().numpy()\n",
    "\n",
    "# Save results to disk\n",
    "path_pred, path_true = f'../results/{model_name}_pred.txt', f'../results/{model_name}_true.txt'\n",
    "np.savetxt(path_pred, y_pred, fmt='%d')\n",
    "np.savetxt(path_true, y_true, fmt='%d')\n",
    "print(f'Saved results in {path_pred}, {path_true}')"
   ]
  },
  {
   "cell_type": "markdown",
   "metadata": {},
   "source": [
    "## Run test_eval.py against our own test data"
   ]
  },
  {
   "cell_type": "code",
   "execution_count": 2377,
   "metadata": {},
   "outputs": [
    {
     "name": "stdout",
     "output_type": "stream",
     "text": [
      "../results/resnet152_plain_true.txt: f1=0.05629509196219896, prec=0.0473990417522245, recall=0.06930197648236178\n"
     ]
    }
   ],
   "source": [
    "%run \"../scripts/test_eval.py\" $path_pred $path_true"
   ]
  },
  {
   "cell_type": "markdown",
   "metadata": {},
   "source": [
    "## Classification report for our own test set"
   ]
  },
  {
   "cell_type": "code",
   "execution_count": 2334,
   "metadata": {},
   "outputs": [
    {
     "name": "stdout",
     "output_type": "stream",
     "text": [
      "              precision    recall  f1-score   support\n",
      "\n",
      "           0       0.68      0.71      0.70        21\n",
      "           1       0.75      0.79      0.77        72\n",
      "           2       0.83      0.74      0.78        58\n",
      "           3       0.73      0.74      0.74       200\n",
      "           4       0.74      0.68      0.71        94\n",
      "           5       0.73      0.74      0.73       631\n",
      "           6       0.80      0.78      0.79       145\n",
      "           7       0.69      0.61      0.65       595\n",
      "           8       0.65      0.58      0.62       118\n",
      "           9       0.87      0.82      0.84      1262\n",
      "          10       0.85      0.78      0.81       644\n",
      "          11       0.32      0.22      0.26        27\n",
      "          12       0.43      0.54      0.48        37\n",
      "          13       0.63      0.57      0.60        93\n",
      "\n",
      "   micro avg       0.78      0.74      0.76      3997\n",
      "   macro avg       0.69      0.67      0.68      3997\n",
      "weighted avg       0.78      0.74      0.76      3997\n",
      " samples avg       0.36      0.35      0.35      3997\n",
      "\n"
     ]
    }
   ],
   "source": [
    "# Save classification report\n",
    "with open(f'../results/{model_name}_classification_report.txt', 'w') as file:\n",
    "    file.write(skm.classification_report(y_true, y_pred))\n",
    "    \n",
    "# Show classification report\n",
    "with open(f'../results/{model_name}_classification_report.txt', 'r') as file:\n",
    "    report = ''.join(file.readlines())\n",
    "    print(report)"
   ]
  },
  {
   "cell_type": "markdown",
   "metadata": {},
   "source": [
    "## Confusion matrix plot for our own test set"
   ]
  },
  {
   "cell_type": "code",
   "execution_count": 2335,
   "metadata": {},
   "outputs": [
    {
     "data": {
      "image/png": "[encoded data removed]",
      "text/plain": [
       "<IPython.core.display.Image object>"
      ]
     },
     "execution_count": 2335,
     "metadata": {
      "image/png": {
       "width": 1000
      }
     },
     "output_type": "execute_result"
    }
   ],
   "source": [
    "# Save confusion matrix plot\n",
    "labels = [k for k, v in get_class_map().items()] + ['unlabelled']\n",
    "\n",
    "#tn, fp, fn, tp = 3750, 157, 21, 72\n",
    "#y_true_no = [0]*tn + [0]*fp + [1]*fn + [1]*tp\n",
    "#y_pred_no = [0]*tn + [1]*fp + [0]*fn + [1]*tp\n",
    "\n",
    "# images and predictions that have no labels\n",
    "y_true_no = (np.sum(y_true, axis=1) == 0).astype(int)\n",
    "y_pred_no = (np.sum(y_pred, axis=1) == 0).astype(int)\n",
    "\n",
    "# confusion matrix and scores for non-labelled images\n",
    "cm, score = get_prediction_metrics(y_true_no, y_pred_no)\n",
    "\n",
    "visualize_confusion_matrix(y_true, y_pred, labels, f'../results/{model_name}_confusion_matrix.png', \n",
    "                           no_label_cn=cm, no_label_score=score)\n",
    "\n",
    "# Show confusion matrix plot\n",
    "IPython_Image(filename=f'../results/{model_name}_confusion_matrix.png', width=1000)"
   ]
  },
  {
   "cell_type": "markdown",
   "metadata": {},
   "source": [
    "# Final model"
   ]
  },
  {
   "cell_type": "code",
   "execution_count": 2400,
   "metadata": {},
   "outputs": [],
   "source": [
    "# Load our best pre-trained model from disk to continue training on validation and test set\n",
    "model = torch.load('../data/resnet152-epochs25-bs64-valid-F1-0.76.pth')\n",
    "model_name = 'resnet152_train'"
   ]
  },
  {
   "cell_type": "markdown",
   "metadata": {},
   "source": [
    "## Add our validation and test data and evaluate"
   ]
  },
  {
   "cell_type": "code",
   "execution_count": 2407,
   "metadata": {},
   "outputs": [
    {
     "name": "stdout",
     "output_type": "stream",
     "text": [
      "Epoch Train loss   Valid loss   Train F1  Valid F1 \n",
      "1     1.0337639706 1.0318663373 0.7558327 0.7554693\n",
      "Done training!\n"
     ]
    }
   ],
   "source": [
    "n_epochs = 1\n",
    "\n",
    "if False:\n",
    "    \n",
    "    model_name = 'resnet152_train_valid'\n",
    "    \n",
    "    scheduler = torch.optim.lr_scheduler.OneCycleLR(\n",
    "        optimizer,max_lr=0.01, base_momentum=0.5, max_momentum=0.95, \n",
    "        steps_per_epoch=len(valid_dataloader), \n",
    "        epochs=n_epochs,)\n",
    "\n",
    "    _, _, _, _, = train(valid_dataloader, valid_dataloader,\\\n",
    "        model, optimizer, scheduler, criterion, device,\\\n",
    "        n_epochs=n_epochs, verbose=False, threshold=threshold)\n",
    "    \n",
    "if True:\n",
    "    \n",
    "    model_name = 'resnet152_final'\n",
    "    \n",
    "    scheduler = torch.optim.lr_scheduler.OneCycleLR(\n",
    "        optimizer,max_lr=0.01, base_momentum=0.5, max_momentum=0.95, \n",
    "        steps_per_epoch=len(valid_dataloader), \n",
    "        epochs=n_epochs,)\n",
    "\n",
    "    _, _, _, _, = train(valid_dataloader, valid_dataloader,\\\n",
    "        model, optimizer, scheduler, criterion, device,\\\n",
    "        n_epochs=n_epochs, verbose=False, threshold=threshold)"
   ]
  },
  {
   "cell_type": "code",
   "execution_count": 2408,
   "metadata": {},
   "outputs": [
    {
     "name": "stdout",
     "output_type": "stream",
     "text": [
      "Saved results in ../results/resnet152_final_pred.txt, ../results/resnet152_final_true.txt\n"
     ]
    }
   ],
   "source": [
    "# Predict \n",
    "y_true, y_pred = predict(model, device, test_dataloader, threshold=threshold)\n",
    "y_true, y_pred = y_true.cpu().numpy(), y_pred.cpu().numpy()\n",
    "\n",
    "# Save results to disk\n",
    "path_pred, path_true = f'../results/{model_name}_pred.txt', f'../results/{model_name}_true.txt'\n",
    "np.savetxt(path_pred, y_pred, fmt='%d')\n",
    "np.savetxt(path_true, y_true, fmt='%d')\n",
    "print(f'Saved results in {path_pred}, {path_true}')"
   ]
  },
  {
   "cell_type": "code",
   "execution_count": 2409,
   "metadata": {},
   "outputs": [
    {
     "name": "stdout",
     "output_type": "stream",
     "text": [
      "../results/resnet152_final_true.txt: f1=0.7540336622170632, prec=0.7033347769597228, recall=0.8126094570928196\n"
     ]
    }
   ],
   "source": [
    "%run \"../scripts/test_eval.py\" $path_pred $path_true"
   ]
  },
  {
   "cell_type": "code",
   "execution_count": 2410,
   "metadata": {},
   "outputs": [
    {
     "name": "stdout",
     "output_type": "stream",
     "text": [
      "Saving model to ../data/resnet152-epochs27-bs64-valid-F1-0.75.pth\n"
     ]
    }
   ],
   "source": [
    "# Save a model on disk to continue training later\n",
    "if True:\n",
    "    model_whole_save_path = f'../data/resnet152-epochs27-bs64-valid-F1-0.75.pth'\n",
    "    print(f'Saving model to {model_whole_save_path}')\n",
    "    torch.save(model, model_whole_save_path)"
   ]
  },
  {
   "cell_type": "markdown",
   "metadata": {},
   "source": [
    "# Predict and evaluate using actual test data\n",
    "\n",
    "## Load our final model"
   ]
  },
  {
   "cell_type": "code",
   "execution_count": 2412,
   "metadata": {},
   "outputs": [],
   "source": [
    "model = torch.load('../data/resnet152-epochs27-bs64-valid-F1-0.75.pth')"
   ]
  },
  {
   "cell_type": "markdown",
   "metadata": {},
   "source": [
    "## Data paths for actual test data"
   ]
  },
  {
   "cell_type": "code",
   "execution_count": 2413,
   "metadata": {},
   "outputs": [],
   "source": [
    "DATA_PATH2 = '../test_data'\n",
    "#DATA_PATH2 = '../data'\n",
    "IMAGE_PATH2 = f'{DATA_PATH2}/images'\n",
    "LABEL_PATH2 = f'{DATA_PATH2}/annotations'"
   ]
  },
  {
   "cell_type": "markdown",
   "metadata": {},
   "source": [
    "## Load actual test data"
   ]
  },
  {
   "cell_type": "code",
   "execution_count": 2414,
   "metadata": {},
   "outputs": [
    {
     "name": "stdout",
     "output_type": "stream",
     "text": [
      "Loading saved torch dump of test images from disk.\n"
     ]
    }
   ],
   "source": [
    "# Load actual testset\n",
    "if not os.path.isfile(f'{DATA_PATH2}/X_test_actual.dat'):\n",
    "    print('Loading test data from disk.')\n",
    "    \n",
    "    # Use this when we have the actual test data: get the whole test data in one dataloader\n",
    "    X_test_actual = get_test_data(test_image_path = IMAGE_PATH2)\n",
    "    \n",
    "    torch.save(X_test_actual, f'{DATA_PATH2}/X_test_actual.dat')\n",
    "else:\n",
    "    print('Loading saved torch dump of test images from disk.')\n",
    "    X_test_actual = torch.load(f'{DATA_PATH2}/X_test_actual.dat')    \n",
    "\n",
    "test_dataloader_actual = DataLoader(\n",
    "    TransformingTestDataset(X_test_actual, transforms=transformations['test']),\n",
    "    shuffle=False,\n",
    "    batch_size=bs)"
   ]
  },
  {
   "cell_type": "markdown",
   "metadata": {},
   "source": [
    "## Predict for actual test data and save predictions on disk"
   ]
  },
  {
   "cell_type": "code",
   "execution_count": 2415,
   "metadata": {},
   "outputs": [
    {
     "name": "stdout",
     "output_type": "stream",
     "text": [
      "Saved actual test data results in ../results/resnet152_final_actual_pred.txt\n"
     ]
    }
   ],
   "source": [
    "# Predict \n",
    "y_pred = predict_testdata(model, device, test_dataloader_actual, threshold=threshold)\n",
    "\n",
    "# Save results to disk\n",
    "path_pred_actual = f'../results/{model_name}_actual_pred.txt'\n",
    "np.savetxt(path_pred_actual, y_pred.cpu(), fmt='%d')\n",
    "print(f'Saved actual test data results in {path_pred_actual}')"
   ]
  },
  {
   "cell_type": "markdown",
   "metadata": {},
   "source": [
    "## Run test_eval.py using actual test set"
   ]
  },
  {
   "cell_type": "code",
   "execution_count": 2340,
   "metadata": {},
   "outputs": [
    {
     "ename": "AssertionError",
     "evalue": "",
     "output_type": "error",
     "traceback": [
      "\u001b[0;31m---------------------------------------------------------------------------\u001b[0m",
      "\u001b[0;31mAssertionError\u001b[0m                            Traceback (most recent call last)",
      "\u001b[0;32m/scratch/project_2003030/scripts/test_eval.py\u001b[0m in \u001b[0;36m<module>\u001b[0;34m\u001b[0m\n\u001b[1;32m     15\u001b[0m \u001b[0;32mfor\u001b[0m \u001b[0mpred_file\u001b[0m \u001b[0;32min\u001b[0m \u001b[0margs\u001b[0m\u001b[0;34m.\u001b[0m\u001b[0mpred_file\u001b[0m\u001b[0;34m:\u001b[0m\u001b[0;34m\u001b[0m\u001b[0;34m\u001b[0m\u001b[0m\n\u001b[1;32m     16\u001b[0m     \u001b[0my_pred\u001b[0m \u001b[0;34m=\u001b[0m \u001b[0mnp\u001b[0m\u001b[0;34m.\u001b[0m\u001b[0mloadtxt\u001b[0m\u001b[0;34m(\u001b[0m\u001b[0mpred_file\u001b[0m\u001b[0;34m)\u001b[0m\u001b[0;34m\u001b[0m\u001b[0;34m\u001b[0m\u001b[0m\n\u001b[0;32m---> 17\u001b[0;31m     \u001b[0;32massert\u001b[0m\u001b[0;34m(\u001b[0m\u001b[0my_true\u001b[0m\u001b[0;34m.\u001b[0m\u001b[0mshape\u001b[0m \u001b[0;34m==\u001b[0m \u001b[0my_pred\u001b[0m\u001b[0;34m.\u001b[0m\u001b[0mshape\u001b[0m\u001b[0;34m)\u001b[0m\u001b[0;34m\u001b[0m\u001b[0;34m\u001b[0m\u001b[0m\n\u001b[0m\u001b[1;32m     18\u001b[0m \u001b[0;34m\u001b[0m\u001b[0m\n\u001b[1;32m     19\u001b[0m     \u001b[0;31m# f1 = f1_score(y_true, y_pred, average='micro')\u001b[0m\u001b[0;34m\u001b[0m\u001b[0;34m\u001b[0m\u001b[0;34m\u001b[0m\u001b[0m\n",
      "\u001b[0;31mAssertionError\u001b[0m: "
     ]
    }
   ],
   "source": [
    "%run \"../scripts/test_eval.py\" $path_pred_actual $path_true"
   ]
  },
  {
   "cell_type": "code",
   "execution_count": null,
   "metadata": {},
   "outputs": [],
   "source": []
  }
 ],
 "metadata": {
  "kernelspec": {
   "display_name": "Python 3",
   "language": "python",
   "name": "python3"
  },
  "language_info": {
   "codemirror_mode": {
    "name": "ipython",
    "version": 3
   },
   "file_extension": ".py",
   "mimetype": "text/x-python",
   "name": "python",
   "nbconvert_exporter": "python",
   "pygments_lexer": "ipython3",
   "version": "3.7.5"
  }
 },
 "nbformat": 4,
 "nbformat_minor": 2
}
