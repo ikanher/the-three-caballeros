{
 "cells": [
  {
   "cell_type": "code",
   "execution_count": 87,
   "metadata": {},
   "outputs": [],
   "source": [
    "import numpy as np\n",
    "import torch\n",
    "import torchvision\n",
    "import matplotlib.pyplot as plt\n",
    "\n",
    "from torch import nn\n",
    "from torch.utils.data import TensorDataset, DataLoader\n",
    "\n",
    "import torchvision.transforms as transforms\n",
    "from torchvision.datasets import ImageFolder\n",
    "\n",
    "from sklearn.model_selection import train_test_split\n",
    "import sklearn.metrics as skm\n",
    "from sklearn.metrics import f1_score\n",
    "\n",
    "import seaborn as sn\n",
    "\n",
    "from os import listdir\n",
    "from PIL import Image\n",
    "from collections import defaultdict\n",
    "import csv\n",
    "\n",
    "from IPython.display import display, clear_output, Image as IPython_Image"
   ]
  },
  {
   "cell_type": "markdown",
   "metadata": {},
   "source": [
    "# Data loading"
   ]
  },
  {
   "cell_type": "code",
   "execution_count": 147,
   "metadata": {},
   "outputs": [],
   "source": [
    "IMAGE_PATH = '../data/images'\n",
    "LABEL_PATH = '../data/annotations'\n",
    "MEAN = (0.43672, 0.40107, 0.36762)\n",
    "STD = (0.30139, 0.28781, 0.29236)\n",
    "\n",
    "# Define default pos_weights for nn.BCEWithLogitsLoss(pos_weights). If the get_dataloader() is run, is will \n",
    "# overwrite this variable based on the statistics of the test set.\n",
    "label_pos_weights_for_loss = np.array([209.52631579, 55.87203791, 58.40594059, 16.77777778, 44.80152672, 5.25, 25.14379085, 5.75675676, 33.09090909, 2.15540363, 5.51465798, 163.38356164, 119., 37.46153846], dtype=np.float32)"
   ]
  },
  {
   "cell_type": "code",
   "execution_count": 3,
   "metadata": {},
   "outputs": [],
   "source": [
    "def number_of_classes():\n",
    "    return len(listdir(LABEL_PATH))"
   ]
  },
  {
   "cell_type": "code",
   "execution_count": 4,
   "metadata": {},
   "outputs": [],
   "source": [
    "def get_class_map():\n",
    "    ret = {}\n",
    "\n",
    "    i = 0\n",
    "    for fname in listdir(LABEL_PATH):\n",
    "        img_class, _ = fname.split('.')\n",
    "        ret[img_class] = i\n",
    "        i += 1\n",
    "\n",
    "    return ret"
   ]
  },
  {
   "cell_type": "code",
   "execution_count": 117,
   "metadata": {},
   "outputs": [],
   "source": [
    "def write_labels_to_csv(name_of_set, label_array):\n",
    "    filepath = f'../data/labels_{name_of_set}.csv'\n",
    "    \n",
    "    label_arr = np.array(label_array).astype(int)\n",
    "\n",
    "    # Save 2D numpy array to csv file\n",
    "    np.savetxt(filepath, label_arr, delimiter=',', fmt='%d')"
   ]
  },
  {
   "cell_type": "code",
   "execution_count": 141,
   "metadata": {},
   "outputs": [],
   "source": [
    "def calculate_label_statistics(label_array, total_n_images):\n",
    "    label_arr = np.array(label_array).astype(int)\n",
    "    pos_label_counts_all = np.sum(label_arr, axis=0)\n",
    "    neg_label_counts_all = total_n_images - pos_label_counts_all\n",
    "    relative_label_occurrances =  pos_label_counts_all/total_n_images\n",
    "    pos_weights = neg_label_counts_all / pos_label_counts_all\n",
    "    \n",
    "    return pos_weights, pos_label_counts_all, neg_label_counts_all, relative_label_occurrances"
   ]
  },
  {
   "cell_type": "code",
   "execution_count": 142,
   "metadata": {},
   "outputs": [],
   "source": [
    "def print_label_statistics(name_of_set, pos_weights, pos_label_counts_all, neg_label_counts_all, relative_label_occurrances):    \n",
    "    print(f'\\nData set: {name_of_set}')\n",
    "    print(' Positive label counts\\n  ', pos_label_counts_all)\n",
    "    print(' Negative label counts\\n  ', neg_label_counts_all)\n",
    "    print(' Relative label occurrances\\n  ', relative_label_occurrances)\n",
    "    print(' Pos_weights\\n  ', pos_weights)"
   ]
  },
  {
   "cell_type": "code",
   "execution_count": 143,
   "metadata": {},
   "outputs": [],
   "source": [
    "def get_dataloader(bs=256, train_fr=.6, max_images_per_class=1e9, use_no_label_imgs = True, transformations=None):\n",
    "    \n",
    "    # by default only transform to tensor\n",
    "    if transformations is None:\n",
    "        transformations = transforms.Compose([transforms.ToTensor()])\n",
    "    \n",
    "    # mapping from class names to integers\n",
    "    class_map = get_class_map()\n",
    "\n",
    "    # create a dictionary to hold our label vectors\n",
    "    n_classes = len(class_map.keys())\n",
    "    img_to_class = defaultdict(lambda: np.zeros(n_classes))\n",
    "\n",
    "    # another dictionary to hold the actual image data\n",
    "    img_to_data = dict()\n",
    "    \n",
    "    # loop through all the annotations\n",
    "    for fname in listdir(LABEL_PATH):\n",
    "        img_class, _ = fname.split('.')\n",
    "        print(f'Reading class: {img_class}')\n",
    "        \n",
    "        # open the annotation file\n",
    "        with open(f'{LABEL_PATH}/{fname}', 'r') as fh:\n",
    "\n",
    "            # get image ids from annotation file\n",
    "            img_ids = fh.read().splitlines()\n",
    "            \n",
    "            # gather the images with labels\n",
    "            for i, img_id in enumerate(img_ids):\n",
    "                \n",
    "                # let's not process images unnecessarily\n",
    "                if not img_id in img_to_data:\n",
    "\n",
    "                    img_path = f'{IMAGE_PATH}/im{img_id}.jpg'\n",
    "                    img = Image.open(img_path)\n",
    "\n",
    "                    # apply transformations\n",
    "                    img_tensor = transformations(img.convert('RGB').resize(224,224)).numpy() \n",
    "\n",
    "                    # append to dict\n",
    "                    img_to_data[img_id] = img_tensor\n",
    "\n",
    "                # get one-hot encoded vector of image classes\n",
    "                img_classes = img_to_class[img_id]\n",
    "\n",
    "                # add new class to image vector\n",
    "                img_class_id = class_map[img_class]\n",
    "                img_classes[img_class_id] = 1\n",
    "\n",
    "                # store the updated vector back\n",
    "                img_to_class[img_id] = img_classes\n",
    "\n",
    "                if i >= max_images_per_class:\n",
    "                    break\n",
    "\n",
    "    # If use_no_label_imgs is on, load also all the images that do not have any labels\n",
    "    for ix, im_fname in enumerate(listdir(IMAGE_PATH)):\n",
    "        img_id = ix + 1\n",
    "        if (str(img_id) not in img_to_data):\n",
    "            img_path = f'{IMAGE_PATH}/im{img_id}.jpg'\n",
    "            img = Image.open(img_path)\n",
    "\n",
    "            # apply transformations\n",
    "            img_tensor = transformations(img.convert('RGB')).numpy() \n",
    "\n",
    "            # append to dict\n",
    "            img_to_data[img_id] = img_tensor\n",
    "\n",
    "    # collect data to a single array\n",
    "    X = []\n",
    "    y = []\n",
    "    for img_id in img_to_data.keys():\n",
    "        X.append(img_to_data[img_id])\n",
    "        y.append(img_to_class[img_id])\n",
    "        \n",
    "    print(len(X), len(y))\n",
    "        \n",
    "    X_train, X_tmp, y_train, y_tmp = train_test_split(X, y, train_size=train_fr, random_state=42)\n",
    "    X_test, X_valid, y_test, y_valid = train_test_split(X_tmp, y_tmp, train_size=.5, test_size=.5, random_state=42)\n",
    "    \n",
    "    # Write labels to csv file\n",
    "    #write_labels_to_csv('all', y)\n",
    "    #write_labels_to_csv('train', y_train)\n",
    "    #write_labels_to_csv('validation', y_valid)\n",
    "    #write_labels_to_csv('test', y_test)\n",
    "    \n",
    "    # Calculate and print out label statistics to be able to analyze label imbalance\n",
    "    pos_weights_all, pos_label_counts_all, neg_label_counts_all, relative_label_occurrances_all = calculate_label_statistics(y, len(X))\n",
    "    pos_weights_train, pos_label_counts_train, neg_label_counts_train, relative_label_occurrances_train = calculate_label_statistics(y_train, len(X_train))\n",
    "    pos_weights_valid, pos_label_counts_valid, neg_label_counts_valid, relative_label_occurrances_valid = calculate_label_statistics(y_valid, len(X_valid))\n",
    "    pos_weights_test, pos_label_counts_test, neg_label_counts_test, relative_label_occurrances_test = calculate_label_statistics(y_test, len(X_test))\n",
    "    \n",
    "    print_label_statistics('all', pos_weights_all, pos_label_counts_all, neg_label_counts_all, relative_label_occurrances_all)\n",
    "    print_label_statistics('train', pos_weights_train, pos_label_counts_train, neg_label_counts_train, relative_label_occurrances_train)\n",
    "    print_label_statistics('validation', pos_weights_valid, pos_label_counts_valid, neg_label_counts_valid, relative_label_occurrances_valid)\n",
    "    print_label_statistics('test', pos_weights_test, pos_label_counts_test, neg_label_counts_test, relative_label_occurrances_test)\n",
    "    \n",
    "    # Set the pos_weights to be used in the loss function\n",
    "    label_pos_weights_for_loss = pos_weights_train\n",
    "    \n",
    "    train_dataloader = DataLoader(TensorDataset(\n",
    "        torch.tensor(X_train, dtype=torch.float),\n",
    "        torch.tensor(y_train, dtype=torch.float)),\n",
    "        shuffle=True,\n",
    "        batch_size=bs)           \n",
    "\n",
    "    valid_dataloader = DataLoader(TensorDataset(\n",
    "        torch.tensor(X_valid, dtype=torch.float),\n",
    "        torch.tensor(y_valid, dtype=torch.float)),\n",
    "        shuffle=True,\n",
    "        batch_size=bs)\n",
    "\n",
    "    test_dataloader = DataLoader(TensorDataset(\n",
    "        torch.tensor(X_test, dtype=torch.float),\n",
    "        torch.tensor(y_test, dtype=torch.float)),\n",
    "        shuffle=True,\n",
    "        batch_size=bs)      \n",
    "\n",
    "    return train_dataloader, valid_dataloader, test_dataloader"
   ]
  },
  {
   "cell_type": "markdown",
   "metadata": {},
   "source": [
    "# Batch statistics\n",
    "\n",
    "## Normalization values\n",
    "\n",
    "Average batch statistic (bs=4096):\n",
    "```\n",
    "MEAN=(0.43642, 0.40083, 0.36744), STD=(0.30473, 0.29116, 0.29608)\n",
    "```\n",
    "Running batch statistic (bs=16):\n",
    "```\n",
    "MEAN=(0.43672, 0.40107, 0.36762), STD=(0.30139, 0.28781, 0.29236)\n",
    "```"
   ]
  },
  {
   "cell_type": "code",
   "execution_count": 6,
   "metadata": {},
   "outputs": [],
   "source": [
    "def avg_batch_statistics(dataloaders):\n",
    "    \n",
    "    means = []\n",
    "    stds = []\n",
    "    \n",
    "    for dataloader in dataloaders:\n",
    "        for idx, (batch, _) in enumerate(dataloader):\n",
    "            batch = batch.numpy().reshape(-1, 3, 128, 128)\n",
    "            means.append(np.average(batch, axis=(0,2,3)))\n",
    "            stds.append(np.std(batch, axis=(0,2,3), ddof=1))    \n",
    "        \n",
    "    return np.array(means).mean(axis=0), np.array(stds).mean(axis=0)\n",
    "\n",
    "def running_batch_statistics(dataloaders, momentum=.5):\n",
    "\n",
    "    mean = 0\n",
    "    var_ = 0\n",
    "    \n",
    "    for dataloader in dataloaders:\n",
    "        for idx, (batch, _) in enumerate(dataloader):\n",
    "            batch = batch.numpy().reshape(-1, 3, 128, 128)\n",
    "            b_mean, b_var = np.average(batch, axis=(0,2,3)), np.var(batch, axis=(0,2,3))\n",
    "            mean = momentum * mean + (1 - momentum) * b_mean\n",
    "            var_ = momentum * var_ + (1 - momentum) * b_var\n",
    "\n",
    "    return mean, np.sqrt(var_) # We need not divide by 255\n",
    "    \n",
    "\n",
    "if False:\n",
    "    \n",
    "    images_root = '../data/images'\n",
    "    fmt = lambda arr: \", \".join([\"%.5f\" % x for x in arr])\n",
    "    \n",
    "    # NB: RuntimeError: Found 0 files in subfolders of: ../data/images\n",
    "    #     => Put images in any arbitrary subfolder structure like '../data/images/0'\n",
    "    dataset = ImageFolder(root=images_root, transform=transforms.Compose([ transforms.ToTensor() ]))\n",
    "    \n",
    "    bs = 2**13\n",
    "    dataloader = torch.utils.data.DataLoader(dataset, batch_size=bs)\n",
    "    mean, var_ = avg_batch_statistics([dataloader])\n",
    "    print(f'\\nAverage batch statistic (bs={bs}):\\nMEAN=({fmt(mean)}), STD=({fmt(var_)})')\n",
    "    \n",
    "    bs = 2**4\n",
    "    dataloader = torch.utils.data.DataLoader(dataset, batch_size=bs)\n",
    "    mean, var_ = avg_batch_statistics([dataloader])\n",
    "    print(f'\\nRunning batch statistic (bs={bs}):\\nMEAN=({fmt(mean)}), STD=({fmt(var_)})')"
   ]
  },
  {
   "cell_type": "markdown",
   "metadata": {},
   "source": [
    "## Batch statistics with CIFAR10 dataset\n",
    "\n",
    "Correct normalization values for CIFAR-10 (https://github.com/kuangliu/pytorch-cifar/issues/19): \n",
    "```\n",
    "(0.4914, 0.4822, 0.4465), (0.247, 0.243, 0.261)\n",
    "```"
   ]
  },
  {
   "cell_type": "code",
   "execution_count": 7,
   "metadata": {},
   "outputs": [],
   "source": [
    "if False:\n",
    "\n",
    "    from torchvision.datasets import CIFAR10\n",
    "    \n",
    "    images_root = '../data/CIFAR10'    \n",
    "    fmt = lambda arr: \", \".join([\"%.5f\" % x for x in arr])\n",
    "    \n",
    "    dataset = torchvision.datasets.CIFAR10(root=f'{images_root}/train/', train=True, download=True, transform=transforms.Compose([ transforms.ToTensor() ]))\n",
    "    dataset2 = torchvision.datasets.CIFAR10(root=f'{images_root}/test/', train=False, download=True, transform=transforms.Compose([ transforms.ToTensor() ]))\n",
    "\n",
    "    bs = 2**13\n",
    "    dataloaders = [\n",
    "        torch.utils.data.DataLoader(dataset, batch_size=bs),\n",
    "        torch.utils.data.DataLoader(dataset2, batch_size=bs)\n",
    "    ]\n",
    "    mean, var_ = avg_batch_statistics(dataloaders)\n",
    "    print(f'\\nAverage batch statistic (bs={bs}):\\nMEAN=({fmt(mean)}), STD=({fmt(var_)})')\n",
    "    \n",
    "    bs = 2**4\n",
    "    dataloaders = [\n",
    "        torch.utils.data.DataLoader(dataset, batch_size=bs),\n",
    "        torch.utils.data.DataLoader(dataset2, batch_size=bs)\n",
    "    ]\n",
    "    mean, var_ = running_batch_statistics([dataloader, dataloader2])\n",
    "    print(f'\\nRunning batch statistic (bs={bs}):\\nMEAN=({fmt(mean)}), STD=({fmt(var_)})')\n",
    "    \n",
    "    #(0.4914, 0.4822, 0.4465), (0.247, 0.243, 0.261)"
   ]
  },
  {
   "cell_type": "markdown",
   "metadata": {},
   "source": [
    "# Models"
   ]
  },
  {
   "cell_type": "code",
   "execution_count": 8,
   "metadata": {
    "hide_input": true
   },
   "outputs": [],
   "source": [
    "class TwoLayerModel(nn.Module):\n",
    "    def __init__(self, n_input, n_hidden1, n_hidden2, n_classes):\n",
    "        super().__init__()\n",
    "        self.bs = bs\n",
    "        self.input_layer = nn.Linear(n_input, n_hidden1)\n",
    "        self.hidden1 = nn.Linear(n_hidden1, n_hidden2)\n",
    "        self.hidden2 = nn.Linear(n_hidden2, n_classes)\n",
    "        self.relu = nn.ReLU()\n",
    "        self.bn0 = nn.BatchNorm1d(n_input)\n",
    "        self.bn1 = nn.BatchNorm1d(n_hidden1)\n",
    "        self.bn2 = nn.BatchNorm1d(n_hidden2)\n",
    "\n",
    "    def forward(self, x):\n",
    "        x = self.bn0(x)\n",
    "        x = self.input_layer(x)\n",
    "        x = self.relu(x)\n",
    "        x = self.bn1(x)\n",
    "        x = self.hidden1(x)\n",
    "        x = self.relu(x)\n",
    "        x = self.bn2(x)\n",
    "        x = self.hidden2(x)\n",
    "\n",
    "        return x"
   ]
  },
  {
   "cell_type": "code",
   "execution_count": 9,
   "metadata": {
    "hide_input": false
   },
   "outputs": [],
   "source": [
    "class OneLayerModel(nn.Module):\n",
    "    def __init__(self, n_input, n_hidden, n_classes):\n",
    "        super().__init__()\n",
    "\n",
    "        self.input_layer = nn.Linear(n_input, n_hidden)\n",
    "        self.hidden = nn.Linear(n_hidden, n_classes)\n",
    "        self.relu = nn.ReLU()\n",
    "        self.bn0 = nn.BatchNorm1d(n_input)\n",
    "        self.bn1 = nn.BatchNorm1d(n_hidden)\n",
    "\n",
    "    def forward(self, x):\n",
    "        x = self.bn0(x)\n",
    "        x = self.input_layer(x)\n",
    "        x = self.relu(x)\n",
    "        x = self.bn1(x)\n",
    "        x = self.hidden(x)\n",
    "\n",
    "        return x"
   ]
  },
  {
   "cell_type": "code",
   "execution_count": 19,
   "metadata": {
    "hide_input": false
   },
   "outputs": [],
   "source": [
    "class ConvNetModel(nn.Module):\n",
    "    def __init__(self, n_classes, keep_prob=.5):\n",
    "        super(ConvNetModel, self).__init__()\n",
    "        # Common layers used multiple times\n",
    "        self.relu = nn.ReLU()\n",
    "        self.maxpool = nn.MaxPool2d(kernel_size=2, stride=2)\n",
    "        self.dropout = nn.Dropout(p=1-keep_prob)\n",
    "        \n",
    "        # Unique layers\n",
    "        self.conv1 = nn.Conv2d(in_channels=3, out_channels=256, kernel_size=3, stride=1, padding=1) #(n samples, channels, height, width)\n",
    "        self.conv2 = nn.Conv2d(in_channels=256, out_channels=14, kernel_size=3, stride=1, padding=1)\n",
    "        self.fc3 = nn.Linear(in_features=256*4*14, out_features=n_classes)\n",
    "        \n",
    "    def forward(self, x):\n",
    "        x = x.reshape(-1, 3, 128, 128)\n",
    "        \n",
    "        out = self.conv1(x)\n",
    "        out = self.relu(out)\n",
    "        out = self.maxpool(out)\n",
    "        out = self.dropout(out)\n",
    "        \n",
    "        out = self.conv2(out)\n",
    "        out = self.relu(out)\n",
    "        out = self.maxpool(out)\n",
    "        out = self.dropout(out)\n",
    "        \n",
    "        out = out.reshape(out.size(0), -1)  # Flatten for FC\n",
    "        out = self.fc3(out)\n",
    "        return out    "
   ]
  },
  {
   "cell_type": "markdown",
   "metadata": {},
   "source": [
    "# Training and evaluation functions"
   ]
  },
  {
   "cell_type": "code",
   "execution_count": 48,
   "metadata": {
    "hide_input": false
   },
   "outputs": [],
   "source": [
    "def evaluate(dataloader, model, criterion, device, threshold=0.5):\n",
    "    model.eval()\n",
    "\n",
    "    f1_scores = []\n",
    "    losses = []\n",
    "\n",
    "    with torch.no_grad():\n",
    "        for batch in dataloader:\n",
    "            X, y = batch\n",
    "            X = X.to(device)\n",
    "            y = y.to(device)\n",
    "            y_pred = model(X)\n",
    "\n",
    "            loss = criterion(y_pred, y)\n",
    "            losses.append(loss)\n",
    "\n",
    "            with torch.no_grad():\n",
    "                score = f1_score(y_pred.cpu() > threshold, y.cpu() == 1, average='micro')\n",
    "                f1_scores.append(score)\n",
    "\n",
    "    model.train()\n",
    "\n",
    "    return torch.mean(torch.tensor(losses)), torch.mean(torch.tensor(f1_scores))"
   ]
  },
  {
   "cell_type": "code",
   "execution_count": 49,
   "metadata": {
    "hide_input": false
   },
   "outputs": [],
   "source": [
    "def train(train_dataloader, valid_dataloader, model, optimizer, criterion, device, n_epochs=50, verbose=True):\n",
    "    \n",
    "    log = []\n",
    "    \n",
    "    model.train()\n",
    "\n",
    "    if verbose:\n",
    "        fmt = '{:<5} {:12} {:12} {:<9} {:<9}'\n",
    "        print(fmt.format('Epoch', 'Train loss', 'Valid loss', 'Train F1', 'Valid F1'))\n",
    "\n",
    "    for epoch in range(n_epochs):\n",
    "        \n",
    "        for i, batch in enumerate(train_dataloader):\n",
    "            X, y = batch\n",
    "            \n",
    "            X = X.to(device)\n",
    "            y = y.to(device)\n",
    "\n",
    "            optimizer.zero_grad()\n",
    "            y_pred = model(X)\n",
    "            loss = criterion(y_pred, y)\n",
    "            loss.backward()\n",
    "            optimizer.step()\n",
    "            \n",
    "            clear_output(wait=True)\n",
    "            display(f'Epoch: {epoch+1}, iteration: {i+1}, loss: {loss}')\n",
    "\n",
    "        log.append(f'Epoch: {epoch+1}, loss: {loss}')\n",
    "\n",
    "        if verbose:\n",
    "            train_loss, train_score = evaluate(train_dataloader, model, criterion, device)\n",
    "            valid_loss, valid_score = evaluate(valid_dataloader, model, criterion, device)\n",
    "\n",
    "            fmt = '{:<5} {:03.10f} {:03.10f} {:02.7f} {:02.7f}'\n",
    "            print(fmt.format(epoch, train_loss, valid_loss, train_score, valid_score))\n",
    "            \n",
    "    print('\\n'.join(log))\n",
    "    print('\\nDone training')"
   ]
  },
  {
   "cell_type": "code",
   "execution_count": 156,
   "metadata": {
    "hide_input": false
   },
   "outputs": [],
   "source": [
    "def visualize_predictions(model, device, dataloader, mean=MEAN, std=STD, n_to_show=3, threshold=0.5):\n",
    "    \n",
    "    class_to_label = { v: k for k, v in get_class_map().items() }\n",
    "    \n",
    "    # https://discuss.pytorch.org/t/simple-way-to-inverse-transform-normalization/4821/5\n",
    "    inv_transform = transforms.Compose([\n",
    "        transforms.Normalize(mean = -1 * np.multiply(mean, std), std=np.divide(1, std))\n",
    "    ])\n",
    "    \n",
    "    for i, batch in enumerate(dataloader):\n",
    "        n_shown = 0\n",
    "        \n",
    "        X, y = batch\n",
    "        X = X.to(device)\n",
    "\n",
    "        #print (\"Model(X)\")\n",
    "        #print (model(X))\n",
    "        y_pred_raw = model(X).cpu()\n",
    "        y_pred = y_pred_raw > threshold \n",
    "        y = y == 1\n",
    "\n",
    "        for i in range(len(y)):\n",
    "            pred_classes = np.where(y_pred[i] == 1)[0]\n",
    "            true_classes = np.where(y[i] == 1)[0]\n",
    "            \n",
    "            true_classes_str = ', '.join([class_to_label[i] for i in true_classes])\n",
    "            pred_classes_str = ', '.join([class_to_label[i] for i in pred_classes])\n",
    "\n",
    "            img = inv_transform(X[i].cpu())              # inverse transforms\n",
    "            img = img.permute(2, 1, 0)                   # BGR -> RGB\n",
    "            img = np.rot90(img, 3)\n",
    "                                    \n",
    "            plt.title(f'True: {true_classes_str}, Predictions: {pred_classes_str}')\n",
    "            plt.imshow(img)\n",
    "            plt.pause(0.001)\n",
    "\n",
    "            if n_shown >= n_to_show:\n",
    "                return\n",
    "\n",
    "            n_shown += 1"
   ]
  },
  {
   "cell_type": "code",
   "execution_count": 51,
   "metadata": {
    "hide_input": false
   },
   "outputs": [],
   "source": [
    "def predict_X(fr, threshold=0.25):\n",
    "    \n",
    "    y_hat = fr > threshold\n",
    "    \n",
    "    return y_hat if (np.sum(y_hat) > 0) else fr == np.max(fr)\n",
    "\n",
    "def predict(model, device, dataloader):\n",
    "    \n",
    "    ys_all = []  # Array of np.array(14) \n",
    "    y_hats_all = []\n",
    "    \n",
    "    for i, batch in enumerate(dataloader):\n",
    "        \n",
    "        Xs, ys = batch\n",
    "        Xs = model(Xs.to(device))\n",
    "        y_hats = np.apply_along_axis(predict_X, axis=1, arr=Xs.cpu().detach().numpy())\n",
    "        \n",
    "        y_hats_all.extend(y_hat for y_hat in y_hats)\n",
    "        ys_all.extend(y.numpy() for y in ys==1)\n",
    "\n",
    "    return np.array(ys_all), np.array(y_hats_all)\n",
    "\n",
    "def visualize_confusion_matrix(y_true, y_pred, labels, file_path):\n",
    "\n",
    "    plt.ioff()\n",
    "    \n",
    "    # Get confusion matrices\n",
    "    cn_tensor = skm.multilabel_confusion_matrix(y_true, y_pred)\n",
    "    \n",
    "    # Get precision, recall, f1-score\n",
    "    scores = skm.classification_report(y_true, y_pred, output_dict=True)\n",
    "\n",
    "    fig, ax = plt.subplots(nrows=5, ncols=3,sharey=True, figsize=(20, 20), \n",
    "                           gridspec_kw={'hspace': 0.3, 'wspace': 0.0})\n",
    "    gn = ['True Neg','False Pos','False Neg','True Pos']\n",
    "    n = cn_tensor[0].sum()\n",
    "    \n",
    "    # Loop all labels\n",
    "    for i, cn_matrix in enumerate(cn_tensor):\n",
    "\n",
    "        j, k = int(i/3), i%3\n",
    "        \n",
    "        # Annotations\n",
    "        annot = np.asarray(\n",
    "            ['{}\\n{:0.0f}\\n{:.2%}'.format(gn[i], x, x/n) for i, x in enumerate(cn_matrix.flatten())]\n",
    "        ).reshape(2,2)\n",
    "        \n",
    "        # Plot heatmap\n",
    "        sn.heatmap(cn_matrix, annot=annot, fmt='', cmap='Blues', ax=ax[j, k])\n",
    "        \n",
    "        # Precision, recall, f1-score\n",
    "        title = '{}\\nprec.={:.3}, rec.={:.3}, f1={:.3}'.format(\n",
    "            labels[i], scores[str(i)]['precision'], scores[str(i)]['recall'], scores[str(i)]['f1-score'])\n",
    "        ax[j, k].set_title(title)\n",
    "        \n",
    "    plt.savefig(file_path, bbox_inches='tight')\n",
    "    plt.close()"
   ]
  },
  {
   "cell_type": "markdown",
   "metadata": {},
   "source": [
    "# Do the magic!"
   ]
  },
  {
   "cell_type": "code",
   "execution_count": 65,
   "metadata": {
    "hide_input": false
   },
   "outputs": [
    {
     "name": "stdout",
     "output_type": "stream",
     "text": [
      "Using GPU!\n"
     ]
    }
   ],
   "source": [
    "if torch.cuda.is_available():\n",
    "    print('Using GPU!')\n",
    "    device = torch.device('cuda')\n",
    "else:\n",
    "    print('Using CPU')\n",
    "    device = torch.device('cpu')\n",
    "\n",
    "lr = 0.01\n",
    "n_epochs = 2 #10\n",
    "bs = 1 #256\n",
    "n_classes = len(get_class_map().keys())"
   ]
  },
  {
   "cell_type": "markdown",
   "metadata": {},
   "source": [
    "## Create and save / load dataloaders from disk"
   ]
  },
  {
   "cell_type": "code",
   "execution_count": 144,
   "metadata": {
    "hide_input": false
   },
   "outputs": [
    {
     "name": "stdout",
     "output_type": "stream",
     "text": [
      "Reading class: baby\n",
      "Reading class: bird\n",
      "Reading class: car\n",
      "Reading class: clouds\n",
      "Reading class: dog\n",
      "Reading class: female\n",
      "Reading class: flower\n",
      "Reading class: male\n",
      "Reading class: night\n",
      "Reading class: people\n",
      "Reading class: portrait\n",
      "Reading class: river\n",
      "Reading class: sea\n",
      "Reading class: tree\n",
      "20000 20000\n",
      "\n",
      "Data set: all\n",
      " Positive label counts\n",
      "   [  95  360  319 1095  448 3227  761 2979  598 6403 3121  120  173  525]\n",
      " Negative label counts\n",
      "   [19905 19640 19681 18905 19552 16773 19239 17021 19402 13597 16879 19880\n",
      " 19827 19475]\n",
      " Relative label occurrances\n",
      "   [0.00475 0.018   0.01595 0.05475 0.0224  0.16135 0.03805 0.14895 0.0299\n",
      " 0.32015 0.15605 0.006   0.00865 0.02625]\n",
      " Pos_weights\n",
      "   [209.52631579  54.55555556  61.69592476  17.26484018  43.64285714\n",
      "   5.19770685  25.28120894   5.7136623   32.44481605   2.12353584\n",
      "   5.4082025  165.66666667 114.60693642  37.0952381 ]\n",
      "\n",
      "Data set: train\n",
      " Positive label counts\n",
      "   [  57  211  202  675  262 1920  459 1776  352 3803 1842   73  100  312]\n",
      " Negative label counts\n",
      "   [11943 11789 11798 11325 11738 10080 11541 10224 11648  8197 10158 11927\n",
      " 11900 11688]\n",
      " Relative label occurrances\n",
      "   [0.00475    0.01758333 0.01683333 0.05625    0.02183333 0.16\n",
      " 0.03825    0.148      0.02933333 0.31691667 0.1535     0.00608333\n",
      " 0.00833333 0.026     ]\n",
      " Pos_weights\n",
      "   [209.52631579  55.87203791  58.40594059  16.77777778  44.80152672\n",
      "   5.25        25.14379085   5.75675676  33.09090909   2.15540363\n",
      "   5.51465798 163.38356164 119.          37.46153846]\n",
      "\n",
      "Data set: validation\n",
      " Positive label counts\n",
      "   [  17   77   59  220   92  676  157  608  128 1338  635   20   36  120]\n",
      " Negative label counts\n",
      "   [3983 3923 3941 3780 3908 3324 3843 3392 3872 2662 3365 3980 3964 3880]\n",
      " Relative label occurrances\n",
      "   [0.00425 0.01925 0.01475 0.055   0.023   0.169   0.03925 0.152   0.032\n",
      " 0.3345  0.15875 0.005   0.009   0.03   ]\n",
      " Pos_weights\n",
      "   [234.29411765  50.94805195  66.79661017  17.18181818  42.47826087\n",
      "   4.91715976  24.47770701   5.57894737  30.25         1.98953662\n",
      "   5.2992126  199.         110.11111111  32.33333333]\n",
      "\n",
      "Data set: test\n",
      " Positive label counts\n",
      "   [  21   72   58  200   94  631  145  595  118 1262  644   27   37   93]\n",
      " Negative label counts\n",
      "   [3979 3928 3942 3800 3906 3369 3855 3405 3882 2738 3356 3973 3963 3907]\n",
      " Relative label occurrances\n",
      "   [0.00525 0.018   0.0145  0.05    0.0235  0.15775 0.03625 0.14875 0.0295\n",
      " 0.3155  0.161   0.00675 0.00925 0.02325]\n",
      " Pos_weights\n",
      "   [189.47619048  54.55555556  67.96551724  19.          41.55319149\n",
      "   5.33914422  26.5862069    5.72268908  32.89830508   2.16957211\n",
      "   5.21118012 147.14814815 107.10810811  42.01075269]\n"
     ]
    }
   ],
   "source": [
    "max_images_per_class = 7000\n",
    "use_no_label_imgs = True\n",
    "#max_images_per_class = 1e9\n",
    "affix = \"_\" + str(max_images_per_class) if max_images_per_class < 1e9 else \"\"\n",
    "\n",
    "transformations = {\n",
    "    'train' : transforms.Compose([\n",
    "            transforms.ToTensor(),\n",
    "            transforms.Normalize(mean=MEAN, std=STD)\n",
    "        ]),\n",
    "}\n",
    "transformations['valid'] = transformations['test'] = transformations['train']\n",
    "\n",
    "try:\n",
    "    train_dataloader = torch.load(f'../data/train_dataloader{affix}.dat')\n",
    "    valid_dataloader = torch.load(f'../data/valid_dataloader{affix}.dat')\n",
    "    test_dataloader = torch.load(f'../data/test_dataloader{affix}.dat')\n",
    "except:\n",
    "    train_dataloader, valid_dataloader, test_dataloader = get_dataloader(bs=bs, \n",
    "        transformations=transformations['train'], max_images_per_class=max_images_per_class, use_no_label_imgs=use_no_label_imgs)\n",
    "    torch.save(train_dataloader, f'../data/train_dataloader{affix}.dat')\n",
    "    torch.save(valid_dataloader, f'../data/valid_dataloader{affix}.dat')\n",
    "    torch.save(test_dataloader, f'../data/test_dataloader{affix}.dat')"
   ]
  },
  {
   "cell_type": "markdown",
   "metadata": {},
   "source": [
    "## Train a model or load an existing model from disk"
   ]
  },
  {
   "cell_type": "code",
   "execution_count": 151,
   "metadata": {},
   "outputs": [],
   "source": [
    "#model_path = '../data/TwoLayerModel_state.dict'\n",
    "model_path = f'../data/ConvNetModel_state{affix}.dict'\n",
    "\n",
    "#model = TwoLayerModel(128*128*3, 512, 256, n_classes).to(device)\n",
    "model = ConvNetModel(n_classes=n_classes, keep_prob=.5).to(device)\n",
    "\n",
    "pos_weight = torch.from_numpy(label_pos_weights_for_loss).to(device)\n",
    "criterion = nn.BCEWithLogitsLoss(pos_weight=pos_weight)\n",
    "optimizer = torch.optim.SGD(model.parameters(), lr=lr, momentum=0.9)"
   ]
  },
  {
   "cell_type": "code",
   "execution_count": 152,
   "metadata": {},
   "outputs": [
    {
     "data": {
      "text/plain": [
       "'Epoch: 2, iteration: 12000, loss: 3.0630764961242676'"
      ]
     },
     "metadata": {},
     "output_type": "display_data"
    },
    {
     "name": "stdout",
     "output_type": "stream",
     "text": [
      "1     1.3460409641 1.3463289738 0.0061861 0.0065917\n",
      "Epoch: 1, loss: 0.9531434178352356\n",
      "Epoch: 2, loss: 3.0630764961242676\n",
      "\n",
      "Done training\n"
     ]
    }
   ],
   "source": [
    "try:\n",
    "    model.load_state_dict(torch.load(model_path))\n",
    "    model.eval()\n",
    "    print(\"Loaded model\")\n",
    "except:\n",
    "    train(train_dataloader, valid_dataloader, model, optimizer, criterion, device, n_epochs=n_epochs)\n",
    "    model.eval()"
   ]
  },
  {
   "cell_type": "markdown",
   "metadata": {},
   "source": [
    "## Keep training an existing model"
   ]
  },
  {
   "cell_type": "code",
   "execution_count": 153,
   "metadata": {},
   "outputs": [
    {
     "data": {
      "text/plain": [
       "'Epoch: 5, iteration: 12000, loss: 0.7247070074081421'"
      ]
     },
     "metadata": {},
     "output_type": "display_data"
    },
    {
     "name": "stdout",
     "output_type": "stream",
     "text": [
      "4     1.2956793308 1.3053874969 0.0000000 0.0000000\n",
      "Epoch: 1, loss: 0.698900043964386\n",
      "Epoch: 2, loss: 0.7005980610847473\n",
      "Epoch: 3, loss: 0.7282257676124573\n",
      "Epoch: 4, loss: 11.034085273742676\n",
      "Epoch: 5, loss: 0.7247070074081421\n",
      "\n",
      "Done training\n"
     ]
    }
   ],
   "source": [
    "# Keep training existing model with a certain number of epochs\n",
    "additional_epochs = 5\n",
    "\n",
    "if additional_epochs > 0:\n",
    "    model.train()\n",
    "    train(train_dataloader, valid_dataloader, model, optimizer, criterion, device, n_epochs=additional_epochs)\n",
    "    model.eval()"
   ]
  },
  {
   "cell_type": "markdown",
   "metadata": {},
   "source": [
    "## Save a model to disk"
   ]
  },
  {
   "cell_type": "code",
   "execution_count": 154,
   "metadata": {},
   "outputs": [],
   "source": [
    "torch.save(model.state_dict(), model_path)"
   ]
  },
  {
   "cell_type": "markdown",
   "metadata": {},
   "source": [
    "# Visualization and evaluation"
   ]
  },
  {
   "cell_type": "markdown",
   "metadata": {},
   "source": [
    "### Show some images with predictions"
   ]
  },
  {
   "cell_type": "code",
   "execution_count": null,
   "metadata": {},
   "outputs": [],
   "source": [
    "visualize_predictions(model, device, valid_dataloader, n_to_show=2)"
   ]
  },
  {
   "cell_type": "markdown",
   "metadata": {},
   "source": [
    "### Confusion matrix"
   ]
  },
  {
   "cell_type": "code",
   "execution_count": 161,
   "metadata": {
    "scrolled": true
   },
   "outputs": [],
   "source": [
    "re_predict = True\n",
    "\n",
    "if re_predict:\n",
    "\n",
    "    # Predict\n",
    "    y_true, y_pred = predict(model, device, valid_dataloader)\n",
    "    np.save(f'../data/valid_true_labels{affix}.npy', y_true)\n",
    "    np.save(f'../data/valid_pred_labels{affix}.npy', y_pred)\n",
    "    \n",
    "    # Save classification report\n",
    "    with open(f'../data/valid_classification_report{affix}.txt', 'w') as file:\n",
    "        file.write(skm.classification_report(y_true, y_pred))\n",
    "    \n",
    "    # Save confusion matrix plot\n",
    "    labels = [k for k, v in get_class_map().items()]\n",
    "    visualize_confusion_matrix(y_true, y_pred, labels, f'../data/valid_confusion_matrix{affix}.png')"
   ]
  },
  {
   "cell_type": "code",
   "execution_count": 162,
   "metadata": {},
   "outputs": [
    {
     "name": "stdout",
     "output_type": "stream",
     "text": [
      "              precision    recall  f1-score   support\n",
      "\n",
      "           0       0.00      0.00      0.00        17\n",
      "           1       0.02      1.00      0.04        77\n",
      "           2       0.01      1.00      0.03        59\n",
      "           3       0.00      0.00      0.00       220\n",
      "           4       0.00      0.00      0.00        92\n",
      "           5       0.00      0.00      0.00       676\n",
      "           6       0.00      0.00      0.00       157\n",
      "           7       0.00      0.00      0.00       608\n",
      "           8       0.00      0.00      0.00       128\n",
      "           9       0.00      0.00      0.00      1338\n",
      "          10       0.00      0.00      0.00       635\n",
      "          11       0.00      0.00      0.00        20\n",
      "          12       0.00      0.00      0.00        36\n",
      "          13       0.00      0.00      0.00       120\n",
      "\n",
      "   micro avg       0.02      0.03      0.02      4183\n",
      "   macro avg       0.00      0.14      0.00      4183\n",
      "weighted avg       0.00      0.03      0.00      4183\n",
      " samples avg       0.02      0.03      0.02      4183\n",
      "\n"
     ]
    }
   ],
   "source": [
    "# Show classification report\n",
    "with open(f'../data/valid_classification_report{affix}.txt', 'r') as file:\n",
    "    report = ''.join(file.readlines())\n",
    "    print(report)"
   ]
  },
  {
   "cell_type": "code",
   "execution_count": 163,
   "metadata": {},
   "outputs": [
    {
     "data": {
      "image/png": "[encoded data removed]",
      "text/plain": [
       "<IPython.core.display.Image object>"
      ]
     },
     "execution_count": 163,
     "metadata": {
      "image/png": {
       "width": 1000
      }
     },
     "output_type": "execute_result"
    }
   ],
   "source": [
    "# Show confusion matrix plot\n",
    "IPython_Image(filename=f'../data/valid_confusion_matrix{affix}.png', width=1000)"
   ]
  },
  {
   "cell_type": "code",
   "execution_count": null,
   "metadata": {},
   "outputs": [],
   "source": []
  }
 ],
 "metadata": {
  "kernelspec": {
   "display_name": "Python 3",
   "language": "python",
   "name": "python3"
  },
  "language_info": {
   "codemirror_mode": {
    "name": "ipython",
    "version": 3
   },
   "file_extension": ".py",
   "mimetype": "text/x-python",
   "name": "python",
   "nbconvert_exporter": "python",
   "pygments_lexer": "ipython3",
   "version": "3.7.4"
  }
 },
 "nbformat": 4,
 "nbformat_minor": 2
}
